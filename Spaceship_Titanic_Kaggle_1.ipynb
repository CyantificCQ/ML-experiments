{
 "cells": [
  {
   "cell_type": "code",
   "execution_count": 211,
   "metadata": {},
   "outputs": [],
   "source": [
    "import tensorflow as tf\n",
    "import numpy as np\n",
    "import pandas as pd\n",
    "from sklearn.compose import make_column_transformer\n",
    "from sklearn.model_selection import train_test_split\n",
    "from sklearn.preprocessing import MinMaxScaler, OneHotEncoder\n",
    "import matplotlib.pyplot as plt\n",
    "from plot_keras_history import show_history, plot_history\n",
    "from tensorflow.keras import Sequential, layers\n",
    "import os\n"
   ]
  },
  {
   "attachments": {},
   "cell_type": "markdown",
   "metadata": {},
   "source": [
    "### **Spaceship Titanic competition from Kaggle**"
   ]
  },
  {
   "attachments": {},
   "cell_type": "markdown",
   "metadata": {},
   "source": [
    "Setting up the data from the already unzipped file"
   ]
  },
  {
   "cell_type": "code",
   "execution_count": 212,
   "metadata": {},
   "outputs": [
    {
     "data": {
      "text/html": [
       "<div>\n",
       "<style scoped>\n",
       "    .dataframe tbody tr th:only-of-type {\n",
       "        vertical-align: middle;\n",
       "    }\n",
       "\n",
       "    .dataframe tbody tr th {\n",
       "        vertical-align: top;\n",
       "    }\n",
       "\n",
       "    .dataframe thead th {\n",
       "        text-align: right;\n",
       "    }\n",
       "</style>\n",
       "<table border=\"1\" class=\"dataframe\">\n",
       "  <thead>\n",
       "    <tr style=\"text-align: right;\">\n",
       "      <th></th>\n",
       "      <th>PassengerId</th>\n",
       "      <th>HomePlanet</th>\n",
       "      <th>CryoSleep</th>\n",
       "      <th>Cabin</th>\n",
       "      <th>Destination</th>\n",
       "      <th>Age</th>\n",
       "      <th>VIP</th>\n",
       "      <th>RoomService</th>\n",
       "      <th>FoodCourt</th>\n",
       "      <th>ShoppingMall</th>\n",
       "      <th>Spa</th>\n",
       "      <th>VRDeck</th>\n",
       "      <th>Name</th>\n",
       "      <th>Transported</th>\n",
       "    </tr>\n",
       "  </thead>\n",
       "  <tbody>\n",
       "    <tr>\n",
       "      <th>0</th>\n",
       "      <td>0001_01</td>\n",
       "      <td>Europa</td>\n",
       "      <td>False</td>\n",
       "      <td>B/0/P</td>\n",
       "      <td>TRAPPIST-1e</td>\n",
       "      <td>39.0</td>\n",
       "      <td>False</td>\n",
       "      <td>0.0</td>\n",
       "      <td>0.0</td>\n",
       "      <td>0.0</td>\n",
       "      <td>0.0</td>\n",
       "      <td>0.0</td>\n",
       "      <td>Maham Ofracculy</td>\n",
       "      <td>False</td>\n",
       "    </tr>\n",
       "    <tr>\n",
       "      <th>1</th>\n",
       "      <td>0002_01</td>\n",
       "      <td>Earth</td>\n",
       "      <td>False</td>\n",
       "      <td>F/0/S</td>\n",
       "      <td>TRAPPIST-1e</td>\n",
       "      <td>24.0</td>\n",
       "      <td>False</td>\n",
       "      <td>109.0</td>\n",
       "      <td>9.0</td>\n",
       "      <td>25.0</td>\n",
       "      <td>549.0</td>\n",
       "      <td>44.0</td>\n",
       "      <td>Juanna Vines</td>\n",
       "      <td>True</td>\n",
       "    </tr>\n",
       "    <tr>\n",
       "      <th>2</th>\n",
       "      <td>0003_01</td>\n",
       "      <td>Europa</td>\n",
       "      <td>False</td>\n",
       "      <td>A/0/S</td>\n",
       "      <td>TRAPPIST-1e</td>\n",
       "      <td>58.0</td>\n",
       "      <td>True</td>\n",
       "      <td>43.0</td>\n",
       "      <td>3576.0</td>\n",
       "      <td>0.0</td>\n",
       "      <td>6715.0</td>\n",
       "      <td>49.0</td>\n",
       "      <td>Altark Susent</td>\n",
       "      <td>False</td>\n",
       "    </tr>\n",
       "    <tr>\n",
       "      <th>3</th>\n",
       "      <td>0003_02</td>\n",
       "      <td>Europa</td>\n",
       "      <td>False</td>\n",
       "      <td>A/0/S</td>\n",
       "      <td>TRAPPIST-1e</td>\n",
       "      <td>33.0</td>\n",
       "      <td>False</td>\n",
       "      <td>0.0</td>\n",
       "      <td>1283.0</td>\n",
       "      <td>371.0</td>\n",
       "      <td>3329.0</td>\n",
       "      <td>193.0</td>\n",
       "      <td>Solam Susent</td>\n",
       "      <td>False</td>\n",
       "    </tr>\n",
       "    <tr>\n",
       "      <th>4</th>\n",
       "      <td>0004_01</td>\n",
       "      <td>Earth</td>\n",
       "      <td>False</td>\n",
       "      <td>F/1/S</td>\n",
       "      <td>TRAPPIST-1e</td>\n",
       "      <td>16.0</td>\n",
       "      <td>False</td>\n",
       "      <td>303.0</td>\n",
       "      <td>70.0</td>\n",
       "      <td>151.0</td>\n",
       "      <td>565.0</td>\n",
       "      <td>2.0</td>\n",
       "      <td>Willy Santantines</td>\n",
       "      <td>True</td>\n",
       "    </tr>\n",
       "    <tr>\n",
       "      <th>...</th>\n",
       "      <td>...</td>\n",
       "      <td>...</td>\n",
       "      <td>...</td>\n",
       "      <td>...</td>\n",
       "      <td>...</td>\n",
       "      <td>...</td>\n",
       "      <td>...</td>\n",
       "      <td>...</td>\n",
       "      <td>...</td>\n",
       "      <td>...</td>\n",
       "      <td>...</td>\n",
       "      <td>...</td>\n",
       "      <td>...</td>\n",
       "      <td>...</td>\n",
       "    </tr>\n",
       "    <tr>\n",
       "      <th>8688</th>\n",
       "      <td>9276_01</td>\n",
       "      <td>Europa</td>\n",
       "      <td>False</td>\n",
       "      <td>A/98/P</td>\n",
       "      <td>55 Cancri e</td>\n",
       "      <td>41.0</td>\n",
       "      <td>True</td>\n",
       "      <td>0.0</td>\n",
       "      <td>6819.0</td>\n",
       "      <td>0.0</td>\n",
       "      <td>1643.0</td>\n",
       "      <td>74.0</td>\n",
       "      <td>Gravior Noxnuther</td>\n",
       "      <td>False</td>\n",
       "    </tr>\n",
       "    <tr>\n",
       "      <th>8689</th>\n",
       "      <td>9278_01</td>\n",
       "      <td>Earth</td>\n",
       "      <td>True</td>\n",
       "      <td>G/1499/S</td>\n",
       "      <td>PSO J318.5-22</td>\n",
       "      <td>18.0</td>\n",
       "      <td>False</td>\n",
       "      <td>0.0</td>\n",
       "      <td>0.0</td>\n",
       "      <td>0.0</td>\n",
       "      <td>0.0</td>\n",
       "      <td>0.0</td>\n",
       "      <td>Kurta Mondalley</td>\n",
       "      <td>False</td>\n",
       "    </tr>\n",
       "    <tr>\n",
       "      <th>8690</th>\n",
       "      <td>9279_01</td>\n",
       "      <td>Earth</td>\n",
       "      <td>False</td>\n",
       "      <td>G/1500/S</td>\n",
       "      <td>TRAPPIST-1e</td>\n",
       "      <td>26.0</td>\n",
       "      <td>False</td>\n",
       "      <td>0.0</td>\n",
       "      <td>0.0</td>\n",
       "      <td>1872.0</td>\n",
       "      <td>1.0</td>\n",
       "      <td>0.0</td>\n",
       "      <td>Fayey Connon</td>\n",
       "      <td>True</td>\n",
       "    </tr>\n",
       "    <tr>\n",
       "      <th>8691</th>\n",
       "      <td>9280_01</td>\n",
       "      <td>Europa</td>\n",
       "      <td>False</td>\n",
       "      <td>E/608/S</td>\n",
       "      <td>55 Cancri e</td>\n",
       "      <td>32.0</td>\n",
       "      <td>False</td>\n",
       "      <td>0.0</td>\n",
       "      <td>1049.0</td>\n",
       "      <td>0.0</td>\n",
       "      <td>353.0</td>\n",
       "      <td>3235.0</td>\n",
       "      <td>Celeon Hontichre</td>\n",
       "      <td>False</td>\n",
       "    </tr>\n",
       "    <tr>\n",
       "      <th>8692</th>\n",
       "      <td>9280_02</td>\n",
       "      <td>Europa</td>\n",
       "      <td>False</td>\n",
       "      <td>E/608/S</td>\n",
       "      <td>TRAPPIST-1e</td>\n",
       "      <td>44.0</td>\n",
       "      <td>False</td>\n",
       "      <td>126.0</td>\n",
       "      <td>4688.0</td>\n",
       "      <td>0.0</td>\n",
       "      <td>0.0</td>\n",
       "      <td>12.0</td>\n",
       "      <td>Propsh Hontichre</td>\n",
       "      <td>True</td>\n",
       "    </tr>\n",
       "  </tbody>\n",
       "</table>\n",
       "<p>8693 rows × 14 columns</p>\n",
       "</div>"
      ],
      "text/plain": [
       "     PassengerId HomePlanet CryoSleep     Cabin    Destination   Age    VIP  \\\n",
       "0        0001_01     Europa     False     B/0/P    TRAPPIST-1e  39.0  False   \n",
       "1        0002_01      Earth     False     F/0/S    TRAPPIST-1e  24.0  False   \n",
       "2        0003_01     Europa     False     A/0/S    TRAPPIST-1e  58.0   True   \n",
       "3        0003_02     Europa     False     A/0/S    TRAPPIST-1e  33.0  False   \n",
       "4        0004_01      Earth     False     F/1/S    TRAPPIST-1e  16.0  False   \n",
       "...          ...        ...       ...       ...            ...   ...    ...   \n",
       "8688     9276_01     Europa     False    A/98/P    55 Cancri e  41.0   True   \n",
       "8689     9278_01      Earth      True  G/1499/S  PSO J318.5-22  18.0  False   \n",
       "8690     9279_01      Earth     False  G/1500/S    TRAPPIST-1e  26.0  False   \n",
       "8691     9280_01     Europa     False   E/608/S    55 Cancri e  32.0  False   \n",
       "8692     9280_02     Europa     False   E/608/S    TRAPPIST-1e  44.0  False   \n",
       "\n",
       "      RoomService  FoodCourt  ShoppingMall     Spa  VRDeck               Name  \\\n",
       "0             0.0        0.0           0.0     0.0     0.0    Maham Ofracculy   \n",
       "1           109.0        9.0          25.0   549.0    44.0       Juanna Vines   \n",
       "2            43.0     3576.0           0.0  6715.0    49.0      Altark Susent   \n",
       "3             0.0     1283.0         371.0  3329.0   193.0       Solam Susent   \n",
       "4           303.0       70.0         151.0   565.0     2.0  Willy Santantines   \n",
       "...           ...        ...           ...     ...     ...                ...   \n",
       "8688          0.0     6819.0           0.0  1643.0    74.0  Gravior Noxnuther   \n",
       "8689          0.0        0.0           0.0     0.0     0.0    Kurta Mondalley   \n",
       "8690          0.0        0.0        1872.0     1.0     0.0       Fayey Connon   \n",
       "8691          0.0     1049.0           0.0   353.0  3235.0   Celeon Hontichre   \n",
       "8692        126.0     4688.0           0.0     0.0    12.0   Propsh Hontichre   \n",
       "\n",
       "      Transported  \n",
       "0           False  \n",
       "1            True  \n",
       "2           False  \n",
       "3           False  \n",
       "4            True  \n",
       "...           ...  \n",
       "8688        False  \n",
       "8689        False  \n",
       "8690         True  \n",
       "8691        False  \n",
       "8692         True  \n",
       "\n",
       "[8693 rows x 14 columns]"
      ]
     },
     "execution_count": 212,
     "metadata": {},
     "output_type": "execute_result"
    }
   ],
   "source": [
    "train_data = pd.read_csv(\"data/train.csv\")\n",
    "test_data = pd.read_csv(\"data/test.csv\")\n",
    "sample_submission_data = pd.read_csv(\"data/sample_submission.csv\")\n",
    "\n",
    "train_data"
   ]
  },
  {
   "cell_type": "code",
   "execution_count": 213,
   "metadata": {},
   "outputs": [
    {
     "data": {
      "text/html": [
       "<div>\n",
       "<style scoped>\n",
       "    .dataframe tbody tr th:only-of-type {\n",
       "        vertical-align: middle;\n",
       "    }\n",
       "\n",
       "    .dataframe tbody tr th {\n",
       "        vertical-align: top;\n",
       "    }\n",
       "\n",
       "    .dataframe thead th {\n",
       "        text-align: right;\n",
       "    }\n",
       "</style>\n",
       "<table border=\"1\" class=\"dataframe\">\n",
       "  <thead>\n",
       "    <tr style=\"text-align: right;\">\n",
       "      <th></th>\n",
       "      <th>PassengerId</th>\n",
       "      <th>HomePlanet</th>\n",
       "      <th>CryoSleep</th>\n",
       "      <th>Cabin</th>\n",
       "      <th>Destination</th>\n",
       "      <th>Age</th>\n",
       "      <th>VIP</th>\n",
       "      <th>RoomService</th>\n",
       "      <th>FoodCourt</th>\n",
       "      <th>ShoppingMall</th>\n",
       "      <th>Spa</th>\n",
       "      <th>VRDeck</th>\n",
       "      <th>Name</th>\n",
       "    </tr>\n",
       "  </thead>\n",
       "  <tbody>\n",
       "    <tr>\n",
       "      <th>0</th>\n",
       "      <td>0013_01</td>\n",
       "      <td>Earth</td>\n",
       "      <td>True</td>\n",
       "      <td>G/3/S</td>\n",
       "      <td>TRAPPIST-1e</td>\n",
       "      <td>27.0</td>\n",
       "      <td>False</td>\n",
       "      <td>0.0</td>\n",
       "      <td>0.0</td>\n",
       "      <td>0.0</td>\n",
       "      <td>0.0</td>\n",
       "      <td>0.0</td>\n",
       "      <td>Nelly Carsoning</td>\n",
       "    </tr>\n",
       "    <tr>\n",
       "      <th>1</th>\n",
       "      <td>0018_01</td>\n",
       "      <td>Earth</td>\n",
       "      <td>False</td>\n",
       "      <td>F/4/S</td>\n",
       "      <td>TRAPPIST-1e</td>\n",
       "      <td>19.0</td>\n",
       "      <td>False</td>\n",
       "      <td>0.0</td>\n",
       "      <td>9.0</td>\n",
       "      <td>0.0</td>\n",
       "      <td>2823.0</td>\n",
       "      <td>0.0</td>\n",
       "      <td>Lerome Peckers</td>\n",
       "    </tr>\n",
       "    <tr>\n",
       "      <th>2</th>\n",
       "      <td>0019_01</td>\n",
       "      <td>Europa</td>\n",
       "      <td>True</td>\n",
       "      <td>C/0/S</td>\n",
       "      <td>55 Cancri e</td>\n",
       "      <td>31.0</td>\n",
       "      <td>False</td>\n",
       "      <td>0.0</td>\n",
       "      <td>0.0</td>\n",
       "      <td>0.0</td>\n",
       "      <td>0.0</td>\n",
       "      <td>0.0</td>\n",
       "      <td>Sabih Unhearfus</td>\n",
       "    </tr>\n",
       "    <tr>\n",
       "      <th>3</th>\n",
       "      <td>0021_01</td>\n",
       "      <td>Europa</td>\n",
       "      <td>False</td>\n",
       "      <td>C/1/S</td>\n",
       "      <td>TRAPPIST-1e</td>\n",
       "      <td>38.0</td>\n",
       "      <td>False</td>\n",
       "      <td>0.0</td>\n",
       "      <td>6652.0</td>\n",
       "      <td>0.0</td>\n",
       "      <td>181.0</td>\n",
       "      <td>585.0</td>\n",
       "      <td>Meratz Caltilter</td>\n",
       "    </tr>\n",
       "  </tbody>\n",
       "</table>\n",
       "</div>"
      ],
      "text/plain": [
       "  PassengerId HomePlanet CryoSleep  Cabin  Destination   Age    VIP  \\\n",
       "0     0013_01      Earth      True  G/3/S  TRAPPIST-1e  27.0  False   \n",
       "1     0018_01      Earth     False  F/4/S  TRAPPIST-1e  19.0  False   \n",
       "2     0019_01     Europa      True  C/0/S  55 Cancri e  31.0  False   \n",
       "3     0021_01     Europa     False  C/1/S  TRAPPIST-1e  38.0  False   \n",
       "\n",
       "   RoomService  FoodCourt  ShoppingMall     Spa  VRDeck              Name  \n",
       "0          0.0        0.0           0.0     0.0     0.0   Nelly Carsoning  \n",
       "1          0.0        9.0           0.0  2823.0     0.0    Lerome Peckers  \n",
       "2          0.0        0.0           0.0     0.0     0.0   Sabih Unhearfus  \n",
       "3          0.0     6652.0           0.0   181.0   585.0  Meratz Caltilter  "
      ]
     },
     "execution_count": 213,
     "metadata": {},
     "output_type": "execute_result"
    }
   ],
   "source": [
    "test_data.head(4)"
   ]
  },
  {
   "cell_type": "code",
   "execution_count": 214,
   "metadata": {},
   "outputs": [
    {
     "name": "stdout",
     "output_type": "stream",
     "text": [
      "<class 'pandas.core.frame.DataFrame'>\n",
      "RangeIndex: 8693 entries, 0 to 8692\n",
      "Data columns (total 14 columns):\n",
      " #   Column        Non-Null Count  Dtype  \n",
      "---  ------        --------------  -----  \n",
      " 0   PassengerId   8693 non-null   object \n",
      " 1   HomePlanet    8492 non-null   object \n",
      " 2   CryoSleep     8476 non-null   object \n",
      " 3   Cabin         8494 non-null   object \n",
      " 4   Destination   8511 non-null   object \n",
      " 5   Age           8514 non-null   float64\n",
      " 6   VIP           8490 non-null   object \n",
      " 7   RoomService   8512 non-null   float64\n",
      " 8   FoodCourt     8510 non-null   float64\n",
      " 9   ShoppingMall  8485 non-null   float64\n",
      " 10  Spa           8510 non-null   float64\n",
      " 11  VRDeck        8505 non-null   float64\n",
      " 12  Name          8493 non-null   object \n",
      " 13  Transported   8693 non-null   bool   \n",
      "dtypes: bool(1), float64(6), object(7)\n",
      "memory usage: 891.5+ KB\n"
     ]
    }
   ],
   "source": [
    "# Checking null values\n",
    "train_data.info()"
   ]
  },
  {
   "cell_type": "code",
   "execution_count": 215,
   "metadata": {},
   "outputs": [
    {
     "name": "stdout",
     "output_type": "stream",
     "text": [
      "<class 'pandas.core.frame.DataFrame'>\n",
      "RangeIndex: 4277 entries, 0 to 4276\n",
      "Data columns (total 13 columns):\n",
      " #   Column        Non-Null Count  Dtype  \n",
      "---  ------        --------------  -----  \n",
      " 0   PassengerId   4277 non-null   object \n",
      " 1   HomePlanet    4190 non-null   object \n",
      " 2   CryoSleep     4184 non-null   object \n",
      " 3   Cabin         4177 non-null   object \n",
      " 4   Destination   4185 non-null   object \n",
      " 5   Age           4186 non-null   float64\n",
      " 6   VIP           4184 non-null   object \n",
      " 7   RoomService   4195 non-null   float64\n",
      " 8   FoodCourt     4171 non-null   float64\n",
      " 9   ShoppingMall  4179 non-null   float64\n",
      " 10  Spa           4176 non-null   float64\n",
      " 11  VRDeck        4197 non-null   float64\n",
      " 12  Name          4183 non-null   object \n",
      "dtypes: float64(6), object(7)\n",
      "memory usage: 434.5+ KB\n"
     ]
    }
   ],
   "source": [
    "test_data.info()"
   ]
  },
  {
   "cell_type": "code",
   "execution_count": 216,
   "metadata": {},
   "outputs": [
    {
     "data": {
      "text/plain": [
       "G/734/S     8\n",
       "G/109/P     7\n",
       "B/201/P     7\n",
       "G/1368/P    7\n",
       "G/981/S     7\n",
       "           ..\n",
       "G/556/P     1\n",
       "E/231/S     1\n",
       "G/545/S     1\n",
       "G/543/S     1\n",
       "F/947/P     1\n",
       "Name: Cabin, Length: 6560, dtype: int64"
      ]
     },
     "execution_count": 216,
     "metadata": {},
     "output_type": "execute_result"
    }
   ],
   "source": [
    "train_data.Cabin.value_counts()"
   ]
  },
  {
   "cell_type": "code",
   "execution_count": 217,
   "metadata": {},
   "outputs": [
    {
     "data": {
      "text/plain": [
       "TRAPPIST-1e      5915\n",
       "55 Cancri e      1800\n",
       "PSO J318.5-22     796\n",
       "Name: Destination, dtype: int64"
      ]
     },
     "execution_count": 217,
     "metadata": {},
     "output_type": "execute_result"
    }
   ],
   "source": [
    "train_data.Destination.value_counts()"
   ]
  },
  {
   "attachments": {},
   "cell_type": "markdown",
   "metadata": {},
   "source": [
    "Want to keep \"Passanger Id\" so I can use it as index later for the test data. I create a float from that column and\n",
    "also need to normalize data later and replace False and True in the \"Transported\" column to 0 and 1."
   ]
  },
  {
   "cell_type": "code",
   "execution_count": 218,
   "metadata": {},
   "outputs": [
    {
     "data": {
      "text/html": [
       "<div>\n",
       "<style scoped>\n",
       "    .dataframe tbody tr th:only-of-type {\n",
       "        vertical-align: middle;\n",
       "    }\n",
       "\n",
       "    .dataframe tbody tr th {\n",
       "        vertical-align: top;\n",
       "    }\n",
       "\n",
       "    .dataframe thead th {\n",
       "        text-align: right;\n",
       "    }\n",
       "</style>\n",
       "<table border=\"1\" class=\"dataframe\">\n",
       "  <thead>\n",
       "    <tr style=\"text-align: right;\">\n",
       "      <th></th>\n",
       "      <th>PassengerId</th>\n",
       "      <th>HomePlanet</th>\n",
       "      <th>CryoSleep</th>\n",
       "      <th>Cabin</th>\n",
       "      <th>Destination</th>\n",
       "      <th>Age</th>\n",
       "      <th>VIP</th>\n",
       "      <th>RoomService</th>\n",
       "      <th>FoodCourt</th>\n",
       "      <th>ShoppingMall</th>\n",
       "      <th>Spa</th>\n",
       "      <th>VRDeck</th>\n",
       "      <th>Name</th>\n",
       "      <th>Transported</th>\n",
       "    </tr>\n",
       "  </thead>\n",
       "  <tbody>\n",
       "    <tr>\n",
       "      <th>0</th>\n",
       "      <td>0.0</td>\n",
       "      <td>Europa</td>\n",
       "      <td>False</td>\n",
       "      <td>B/0/P</td>\n",
       "      <td>TRAPPIST-1e</td>\n",
       "      <td>39.0</td>\n",
       "      <td>False</td>\n",
       "      <td>0.0</td>\n",
       "      <td>0.0</td>\n",
       "      <td>0.0</td>\n",
       "      <td>0.0</td>\n",
       "      <td>0.0</td>\n",
       "      <td>Maham Ofracculy</td>\n",
       "      <td>0</td>\n",
       "    </tr>\n",
       "    <tr>\n",
       "      <th>1</th>\n",
       "      <td>1.0</td>\n",
       "      <td>Earth</td>\n",
       "      <td>False</td>\n",
       "      <td>F/0/S</td>\n",
       "      <td>TRAPPIST-1e</td>\n",
       "      <td>24.0</td>\n",
       "      <td>False</td>\n",
       "      <td>109.0</td>\n",
       "      <td>9.0</td>\n",
       "      <td>25.0</td>\n",
       "      <td>549.0</td>\n",
       "      <td>44.0</td>\n",
       "      <td>Juanna Vines</td>\n",
       "      <td>1</td>\n",
       "    </tr>\n",
       "    <tr>\n",
       "      <th>2</th>\n",
       "      <td>2.0</td>\n",
       "      <td>Europa</td>\n",
       "      <td>False</td>\n",
       "      <td>A/0/S</td>\n",
       "      <td>TRAPPIST-1e</td>\n",
       "      <td>58.0</td>\n",
       "      <td>True</td>\n",
       "      <td>43.0</td>\n",
       "      <td>3576.0</td>\n",
       "      <td>0.0</td>\n",
       "      <td>6715.0</td>\n",
       "      <td>49.0</td>\n",
       "      <td>Altark Susent</td>\n",
       "      <td>0</td>\n",
       "    </tr>\n",
       "  </tbody>\n",
       "</table>\n",
       "</div>"
      ],
      "text/plain": [
       "   PassengerId HomePlanet CryoSleep  Cabin  Destination   Age    VIP  \\\n",
       "0          0.0     Europa     False  B/0/P  TRAPPIST-1e  39.0  False   \n",
       "1          1.0      Earth     False  F/0/S  TRAPPIST-1e  24.0  False   \n",
       "2          2.0     Europa     False  A/0/S  TRAPPIST-1e  58.0   True   \n",
       "\n",
       "   RoomService  FoodCourt  ShoppingMall     Spa  VRDeck             Name  \\\n",
       "0          0.0        0.0           0.0     0.0     0.0  Maham Ofracculy   \n",
       "1        109.0        9.0          25.0   549.0    44.0     Juanna Vines   \n",
       "2         43.0     3576.0           0.0  6715.0    49.0    Altark Susent   \n",
       "\n",
       "   Transported  \n",
       "0            0  \n",
       "1            1  \n",
       "2            0  "
      ]
     },
     "execution_count": 218,
     "metadata": {},
     "output_type": "execute_result"
    }
   ],
   "source": [
    "train_data[\"PassengerId\"] = pd.factorize(train_data[\"PassengerId\"])[0].astype(float)\n",
    "\n",
    "train_data[\"Transported\"] = train_data[\"Transported\"].replace({False:0, True:1})\n",
    "\n",
    "train_data.head(3)"
   ]
  },
  {
   "cell_type": "code",
   "execution_count": 219,
   "metadata": {},
   "outputs": [
    {
     "data": {
      "text/plain": [
       "PassengerId     False\n",
       "HomePlanet       True\n",
       "CryoSleep        True\n",
       "Cabin            True\n",
       "Destination      True\n",
       "Age              True\n",
       "VIP              True\n",
       "RoomService      True\n",
       "FoodCourt        True\n",
       "ShoppingMall     True\n",
       "Spa              True\n",
       "VRDeck           True\n",
       "Name             True\n",
       "Transported     False\n",
       "dtype: bool"
      ]
     },
     "execution_count": 219,
     "metadata": {},
     "output_type": "execute_result"
    }
   ],
   "source": [
    "train_data.isnull().any()"
   ]
  },
  {
   "cell_type": "code",
   "execution_count": 220,
   "metadata": {},
   "outputs": [],
   "source": [
    "train_data = train_data.dropna(how='any',axis=0) "
   ]
  },
  {
   "cell_type": "code",
   "execution_count": 221,
   "metadata": {},
   "outputs": [],
   "source": [
    "ct = make_column_transformer(\n",
    "    (MinMaxScaler(), [\"Age\", \"RoomService\", \"FoodCourt\", \"ShoppingMall\", \"Spa\", \"VRDeck\", \"PassengerId\"]), # turn all values in these columns between 0 and 1\n",
    "    (OneHotEncoder(handle_unknown=\"ignore\"), [\"HomePlanet\", \"Destination\", \"VIP\", \"CryoSleep\"])\n",
    ")"
   ]
  },
  {
   "cell_type": "code",
   "execution_count": 222,
   "metadata": {},
   "outputs": [],
   "source": [
    "# Creating x and y dropping Cabin value and Name\n",
    "\n",
    "x = train_data.drop([\"Cabin\", \"Name\"], axis=1)\n",
    "y = train_data[\"Transported\"]\n",
    "\n",
    "# Build our train and test sets\n",
    "\n",
    "x_train, x_test, y_train, y_test = train_test_split(x, y, test_size=0.2, random_state=42)\n",
    "\n",
    "# Fit the column transformer to our training data\n",
    "ct.fit(x_train)\n",
    "\n",
    "# Transform training and test data with normalization (MinMaxScaler, OneHotEncoder)\n",
    "\n",
    "x_train_normal = ct.transform(x_train)\n",
    "x_test_normal = ct.transform(x_test)"
   ]
  },
  {
   "cell_type": "code",
   "execution_count": 223,
   "metadata": {},
   "outputs": [
    {
     "data": {
      "text/plain": [
       "((5284, 12), (1322, 12))"
      ]
     },
     "execution_count": 223,
     "metadata": {},
     "output_type": "execute_result"
    }
   ],
   "source": [
    "x_train.shape, x_test.shape"
   ]
  },
  {
   "cell_type": "code",
   "execution_count": 224,
   "metadata": {},
   "outputs": [],
   "source": [
    "# Creating modelcheckpoint function so I can load the best model later that I can evaluate data later on\n",
    "\n",
    "def modelcheckpoint(model, filepath=\"spaceship_model/\"):\n",
    "    name=\".hdf5\"\n",
    "    model_checkpoint = tf.keras.callbacks.ModelCheckpoint(filepath=os.path.join(filepath, model, name), monitor='val_accuracy',verbose=0,save_best_only= True)\n",
    "    return model_checkpoint"
   ]
  },
  {
   "cell_type": "code",
   "execution_count": 225,
   "metadata": {},
   "outputs": [
    {
     "data": {
      "text/html": [
       "<div>\n",
       "<style scoped>\n",
       "    .dataframe tbody tr th:only-of-type {\n",
       "        vertical-align: middle;\n",
       "    }\n",
       "\n",
       "    .dataframe tbody tr th {\n",
       "        vertical-align: top;\n",
       "    }\n",
       "\n",
       "    .dataframe thead th {\n",
       "        text-align: right;\n",
       "    }\n",
       "</style>\n",
       "<table border=\"1\" class=\"dataframe\">\n",
       "  <thead>\n",
       "    <tr style=\"text-align: right;\">\n",
       "      <th></th>\n",
       "      <th>PassengerId</th>\n",
       "      <th>HomePlanet</th>\n",
       "      <th>CryoSleep</th>\n",
       "      <th>Destination</th>\n",
       "      <th>Age</th>\n",
       "      <th>VIP</th>\n",
       "      <th>RoomService</th>\n",
       "      <th>FoodCourt</th>\n",
       "      <th>ShoppingMall</th>\n",
       "      <th>Spa</th>\n",
       "      <th>VRDeck</th>\n",
       "      <th>Transported</th>\n",
       "    </tr>\n",
       "  </thead>\n",
       "  <tbody>\n",
       "    <tr>\n",
       "      <th>7832</th>\n",
       "      <td>7832.0</td>\n",
       "      <td>Europa</td>\n",
       "      <td>False</td>\n",
       "      <td>55 Cancri e</td>\n",
       "      <td>25.0</td>\n",
       "      <td>False</td>\n",
       "      <td>0.0</td>\n",
       "      <td>1673.0</td>\n",
       "      <td>0.0</td>\n",
       "      <td>642.0</td>\n",
       "      <td>612.0</td>\n",
       "      <td>0</td>\n",
       "    </tr>\n",
       "    <tr>\n",
       "      <th>5842</th>\n",
       "      <td>5842.0</td>\n",
       "      <td>Europa</td>\n",
       "      <td>False</td>\n",
       "      <td>TRAPPIST-1e</td>\n",
       "      <td>36.0</td>\n",
       "      <td>False</td>\n",
       "      <td>0.0</td>\n",
       "      <td>2624.0</td>\n",
       "      <td>1657.0</td>\n",
       "      <td>2799.0</td>\n",
       "      <td>1.0</td>\n",
       "      <td>0</td>\n",
       "    </tr>\n",
       "    <tr>\n",
       "      <th>3928</th>\n",
       "      <td>3928.0</td>\n",
       "      <td>Mars</td>\n",
       "      <td>True</td>\n",
       "      <td>55 Cancri e</td>\n",
       "      <td>34.0</td>\n",
       "      <td>False</td>\n",
       "      <td>0.0</td>\n",
       "      <td>0.0</td>\n",
       "      <td>0.0</td>\n",
       "      <td>0.0</td>\n",
       "      <td>0.0</td>\n",
       "      <td>1</td>\n",
       "    </tr>\n",
       "    <tr>\n",
       "      <th>4091</th>\n",
       "      <td>4091.0</td>\n",
       "      <td>Earth</td>\n",
       "      <td>True</td>\n",
       "      <td>55 Cancri e</td>\n",
       "      <td>37.0</td>\n",
       "      <td>False</td>\n",
       "      <td>0.0</td>\n",
       "      <td>0.0</td>\n",
       "      <td>0.0</td>\n",
       "      <td>0.0</td>\n",
       "      <td>0.0</td>\n",
       "      <td>1</td>\n",
       "    </tr>\n",
       "    <tr>\n",
       "      <th>7679</th>\n",
       "      <td>7679.0</td>\n",
       "      <td>Earth</td>\n",
       "      <td>True</td>\n",
       "      <td>PSO J318.5-22</td>\n",
       "      <td>22.0</td>\n",
       "      <td>False</td>\n",
       "      <td>0.0</td>\n",
       "      <td>0.0</td>\n",
       "      <td>0.0</td>\n",
       "      <td>0.0</td>\n",
       "      <td>0.0</td>\n",
       "      <td>1</td>\n",
       "    </tr>\n",
       "    <tr>\n",
       "      <th>...</th>\n",
       "      <td>...</td>\n",
       "      <td>...</td>\n",
       "      <td>...</td>\n",
       "      <td>...</td>\n",
       "      <td>...</td>\n",
       "      <td>...</td>\n",
       "      <td>...</td>\n",
       "      <td>...</td>\n",
       "      <td>...</td>\n",
       "      <td>...</td>\n",
       "      <td>...</td>\n",
       "      <td>...</td>\n",
       "    </tr>\n",
       "    <tr>\n",
       "      <th>4984</th>\n",
       "      <td>4984.0</td>\n",
       "      <td>Europa</td>\n",
       "      <td>True</td>\n",
       "      <td>55 Cancri e</td>\n",
       "      <td>31.0</td>\n",
       "      <td>False</td>\n",
       "      <td>0.0</td>\n",
       "      <td>0.0</td>\n",
       "      <td>0.0</td>\n",
       "      <td>0.0</td>\n",
       "      <td>0.0</td>\n",
       "      <td>1</td>\n",
       "    </tr>\n",
       "    <tr>\n",
       "      <th>6864</th>\n",
       "      <td>6864.0</td>\n",
       "      <td>Earth</td>\n",
       "      <td>False</td>\n",
       "      <td>PSO J318.5-22</td>\n",
       "      <td>22.0</td>\n",
       "      <td>False</td>\n",
       "      <td>28.0</td>\n",
       "      <td>194.0</td>\n",
       "      <td>2.0</td>\n",
       "      <td>0.0</td>\n",
       "      <td>370.0</td>\n",
       "      <td>1</td>\n",
       "    </tr>\n",
       "    <tr>\n",
       "      <th>6919</th>\n",
       "      <td>6919.0</td>\n",
       "      <td>Europa</td>\n",
       "      <td>False</td>\n",
       "      <td>TRAPPIST-1e</td>\n",
       "      <td>25.0</td>\n",
       "      <td>False</td>\n",
       "      <td>0.0</td>\n",
       "      <td>115.0</td>\n",
       "      <td>0.0</td>\n",
       "      <td>1823.0</td>\n",
       "      <td>4041.0</td>\n",
       "      <td>0</td>\n",
       "    </tr>\n",
       "    <tr>\n",
       "      <th>7137</th>\n",
       "      <td>7137.0</td>\n",
       "      <td>Europa</td>\n",
       "      <td>False</td>\n",
       "      <td>55 Cancri e</td>\n",
       "      <td>40.0</td>\n",
       "      <td>True</td>\n",
       "      <td>0.0</td>\n",
       "      <td>21.0</td>\n",
       "      <td>0.0</td>\n",
       "      <td>1503.0</td>\n",
       "      <td>1392.0</td>\n",
       "      <td>0</td>\n",
       "    </tr>\n",
       "    <tr>\n",
       "      <th>1162</th>\n",
       "      <td>1162.0</td>\n",
       "      <td>Earth</td>\n",
       "      <td>False</td>\n",
       "      <td>TRAPPIST-1e</td>\n",
       "      <td>27.0</td>\n",
       "      <td>False</td>\n",
       "      <td>0.0</td>\n",
       "      <td>0.0</td>\n",
       "      <td>863.0</td>\n",
       "      <td>33.0</td>\n",
       "      <td>2.0</td>\n",
       "      <td>1</td>\n",
       "    </tr>\n",
       "  </tbody>\n",
       "</table>\n",
       "<p>5284 rows × 12 columns</p>\n",
       "</div>"
      ],
      "text/plain": [
       "      PassengerId HomePlanet CryoSleep    Destination   Age    VIP  \\\n",
       "7832       7832.0     Europa     False    55 Cancri e  25.0  False   \n",
       "5842       5842.0     Europa     False    TRAPPIST-1e  36.0  False   \n",
       "3928       3928.0       Mars      True    55 Cancri e  34.0  False   \n",
       "4091       4091.0      Earth      True    55 Cancri e  37.0  False   \n",
       "7679       7679.0      Earth      True  PSO J318.5-22  22.0  False   \n",
       "...           ...        ...       ...            ...   ...    ...   \n",
       "4984       4984.0     Europa      True    55 Cancri e  31.0  False   \n",
       "6864       6864.0      Earth     False  PSO J318.5-22  22.0  False   \n",
       "6919       6919.0     Europa     False    TRAPPIST-1e  25.0  False   \n",
       "7137       7137.0     Europa     False    55 Cancri e  40.0   True   \n",
       "1162       1162.0      Earth     False    TRAPPIST-1e  27.0  False   \n",
       "\n",
       "      RoomService  FoodCourt  ShoppingMall     Spa  VRDeck  Transported  \n",
       "7832          0.0     1673.0           0.0   642.0   612.0            0  \n",
       "5842          0.0     2624.0        1657.0  2799.0     1.0            0  \n",
       "3928          0.0        0.0           0.0     0.0     0.0            1  \n",
       "4091          0.0        0.0           0.0     0.0     0.0            1  \n",
       "7679          0.0        0.0           0.0     0.0     0.0            1  \n",
       "...           ...        ...           ...     ...     ...          ...  \n",
       "4984          0.0        0.0           0.0     0.0     0.0            1  \n",
       "6864         28.0      194.0           2.0     0.0   370.0            1  \n",
       "6919          0.0      115.0           0.0  1823.0  4041.0            0  \n",
       "7137          0.0       21.0           0.0  1503.0  1392.0            0  \n",
       "1162          0.0        0.0         863.0    33.0     2.0            1  \n",
       "\n",
       "[5284 rows x 12 columns]"
      ]
     },
     "execution_count": 225,
     "metadata": {},
     "output_type": "execute_result"
    }
   ],
   "source": [
    "x_train"
   ]
  },
  {
   "cell_type": "code",
   "execution_count": 226,
   "metadata": {},
   "outputs": [
    {
     "data": {
      "text/plain": [
       "7832    0\n",
       "5842    0\n",
       "3928    1\n",
       "4091    1\n",
       "7679    1\n",
       "       ..\n",
       "4984    1\n",
       "6864    1\n",
       "6919    0\n",
       "7137    0\n",
       "1162    1\n",
       "Name: Transported, Length: 5284, dtype: int64"
      ]
     },
     "execution_count": 226,
     "metadata": {},
     "output_type": "execute_result"
    }
   ],
   "source": [
    "y_train"
   ]
  },
  {
   "cell_type": "code",
   "execution_count": 227,
   "metadata": {},
   "outputs": [
    {
     "data": {
      "text/plain": [
       "array([[3.16455696e-01, 0.00000000e+00, 5.61164593e-02, 0.00000000e+00,\n",
       "        2.86504820e-02, 3.00944138e-02, 9.01058445e-01, 0.00000000e+00,\n",
       "        1.00000000e+00, 0.00000000e+00, 1.00000000e+00, 0.00000000e+00,\n",
       "        0.00000000e+00, 1.00000000e+00, 0.00000000e+00, 1.00000000e+00,\n",
       "        0.00000000e+00],\n",
       "       [4.55696203e-01, 0.00000000e+00, 8.80152953e-02, 1.35232188e-01,\n",
       "        1.24910746e-01, 4.91738788e-05, 6.72112287e-01, 0.00000000e+00,\n",
       "        1.00000000e+00, 0.00000000e+00, 0.00000000e+00, 0.00000000e+00,\n",
       "        1.00000000e+00, 1.00000000e+00, 0.00000000e+00, 1.00000000e+00,\n",
       "        0.00000000e+00]])"
      ]
     },
     "execution_count": 227,
     "metadata": {},
     "output_type": "execute_result"
    }
   ],
   "source": [
    "x_train_normal[:2]"
   ]
  },
  {
   "cell_type": "code",
   "execution_count": 228,
   "metadata": {},
   "outputs": [
    {
     "data": {
      "text/plain": [
       "(5284, 17)"
      ]
     },
     "execution_count": 228,
     "metadata": {},
     "output_type": "execute_result"
    }
   ],
   "source": [
    "len(x_train_normal), len(x_train_normal[1])"
   ]
  },
  {
   "cell_type": "code",
   "execution_count": 229,
   "metadata": {},
   "outputs": [
    {
     "data": {
      "text/plain": [
       "PassengerId     float64\n",
       "HomePlanet       object\n",
       "CryoSleep        object\n",
       "Destination      object\n",
       "Age             float64\n",
       "VIP              object\n",
       "RoomService     float64\n",
       "FoodCourt       float64\n",
       "ShoppingMall    float64\n",
       "Spa             float64\n",
       "VRDeck          float64\n",
       "Transported       int64\n",
       "dtype: object"
      ]
     },
     "execution_count": 229,
     "metadata": {},
     "output_type": "execute_result"
    }
   ],
   "source": [
    "x_train.dtypes"
   ]
  },
  {
   "cell_type": "code",
   "execution_count": 230,
   "metadata": {},
   "outputs": [
    {
     "name": "stdout",
     "output_type": "stream",
     "text": [
      "Epoch 1/25\n",
      "166/166 - 1s - loss: 0.3224 - accuracy: 0.7050 - val_loss: 0.2834 - val_accuracy: 0.7307 - 1s/epoch - 7ms/step\n",
      "Epoch 2/25\n",
      "166/166 - 1s - loss: 0.2887 - accuracy: 0.7262 - val_loss: 0.2818 - val_accuracy: 0.7368 - 704ms/epoch - 4ms/step\n",
      "Epoch 3/25\n",
      "166/166 - 1s - loss: 0.2861 - accuracy: 0.7296 - val_loss: 0.2806 - val_accuracy: 0.7368 - 640ms/epoch - 4ms/step\n",
      "Epoch 4/25\n",
      "166/166 - 1s - loss: 0.2868 - accuracy: 0.7292 - val_loss: 0.2773 - val_accuracy: 0.7368 - 682ms/epoch - 4ms/step\n",
      "Epoch 5/25\n",
      "166/166 - 1s - loss: 0.2866 - accuracy: 0.7292 - val_loss: 0.2833 - val_accuracy: 0.7352 - 642ms/epoch - 4ms/step\n",
      "Epoch 6/25\n",
      "166/166 - 1s - loss: 0.2864 - accuracy: 0.7299 - val_loss: 0.2915 - val_accuracy: 0.7352 - 611ms/epoch - 4ms/step\n",
      "Epoch 7/25\n",
      "166/166 - 1s - loss: 0.2854 - accuracy: 0.7296 - val_loss: 0.2819 - val_accuracy: 0.7368 - 628ms/epoch - 4ms/step\n",
      "Epoch 8/25\n",
      "166/166 - 1s - loss: 0.2873 - accuracy: 0.7309 - val_loss: 0.2820 - val_accuracy: 0.7375 - 720ms/epoch - 4ms/step\n",
      "Epoch 9/25\n",
      "166/166 - 1s - loss: 0.2850 - accuracy: 0.7299 - val_loss: 0.2723 - val_accuracy: 0.7368 - 710ms/epoch - 4ms/step\n",
      "Epoch 10/25\n",
      "166/166 - 1s - loss: 0.2846 - accuracy: 0.7301 - val_loss: 0.2720 - val_accuracy: 0.7368 - 735ms/epoch - 4ms/step\n",
      "Epoch 11/25\n",
      "166/166 - 1s - loss: 0.2844 - accuracy: 0.7301 - val_loss: 0.2727 - val_accuracy: 0.7368 - 658ms/epoch - 4ms/step\n",
      "Epoch 12/25\n",
      "166/166 - 1s - loss: 0.2841 - accuracy: 0.7301 - val_loss: 0.2805 - val_accuracy: 0.7390 - 687ms/epoch - 4ms/step\n",
      "Epoch 13/25\n",
      "166/166 - 1s - loss: 0.2823 - accuracy: 0.7286 - val_loss: 0.2708 - val_accuracy: 0.7375 - 721ms/epoch - 4ms/step\n",
      "Epoch 14/25\n",
      "166/166 - 1s - loss: 0.2841 - accuracy: 0.7301 - val_loss: 0.2739 - val_accuracy: 0.7375 - 655ms/epoch - 4ms/step\n",
      "Epoch 15/25\n",
      "166/166 - 1s - loss: 0.2849 - accuracy: 0.7316 - val_loss: 0.2732 - val_accuracy: 0.7368 - 645ms/epoch - 4ms/step\n",
      "Epoch 16/25\n",
      "166/166 - 1s - loss: 0.2835 - accuracy: 0.7294 - val_loss: 0.2749 - val_accuracy: 0.7375 - 634ms/epoch - 4ms/step\n",
      "Epoch 17/25\n",
      "166/166 - 1s - loss: 0.2844 - accuracy: 0.7298 - val_loss: 0.2713 - val_accuracy: 0.7375 - 649ms/epoch - 4ms/step\n",
      "Epoch 18/25\n",
      "166/166 - 1s - loss: 0.2837 - accuracy: 0.7313 - val_loss: 0.2690 - val_accuracy: 0.7383 - 674ms/epoch - 4ms/step\n",
      "Epoch 19/25\n",
      "166/166 - 1s - loss: 0.2813 - accuracy: 0.7292 - val_loss: 0.2724 - val_accuracy: 0.7375 - 649ms/epoch - 4ms/step\n",
      "Epoch 20/25\n",
      "166/166 - 1s - loss: 0.2828 - accuracy: 0.7299 - val_loss: 0.2722 - val_accuracy: 0.7375 - 616ms/epoch - 4ms/step\n",
      "Epoch 21/25\n",
      "166/166 - 1s - loss: 0.2830 - accuracy: 0.7303 - val_loss: 0.2722 - val_accuracy: 0.7375 - 680ms/epoch - 4ms/step\n",
      "Epoch 22/25\n",
      "166/166 - 1s - loss: 0.2834 - accuracy: 0.7301 - val_loss: 0.2704 - val_accuracy: 0.7375 - 648ms/epoch - 4ms/step\n",
      "Epoch 23/25\n",
      "166/166 - 1s - loss: 0.2803 - accuracy: 0.7282 - val_loss: 0.2754 - val_accuracy: 0.7375 - 622ms/epoch - 4ms/step\n",
      "Epoch 24/25\n",
      "166/166 - 1s - loss: 0.2816 - accuracy: 0.7294 - val_loss: 0.2729 - val_accuracy: 0.7375 - 663ms/epoch - 4ms/step\n",
      "Epoch 25/25\n",
      "166/166 - 1s - loss: 0.2811 - accuracy: 0.7292 - val_loss: 0.2712 - val_accuracy: 0.7383 - 670ms/epoch - 4ms/step\n"
     ]
    }
   ],
   "source": [
    "# Build a neural network model to fit on our normalized data\n",
    "\n",
    "\n",
    "tf.random.set_seed(42)\n",
    "\n",
    "# 1. Create a model\n",
    "\n",
    "model0 = tf.keras.Sequential([\n",
    "    tf.keras.layers.Dense(100),\n",
    "    tf.keras.layers.Dense(10),\n",
    "    tf.keras.layers.Dense(1)\n",
    "], name=\"model0_dense\")\n",
    "\n",
    "\n",
    "# 2. Compile the model\n",
    "\n",
    "model0.compile(loss=tf.keras.losses.mae,\n",
    "                  optimizer=tf.keras.optimizers.Adam(),\n",
    "                  metrics = [\"accuracy\"])\n",
    "\n",
    "# 3. Fit the model\n",
    "\n",
    "history0 = model0.fit(x_train_normal,y_train,\n",
    "                      epochs=25,\n",
    "                      verbose = 2,\n",
    "                      validation_data=(x_test_normal, y_test),\n",
    "                      callbacks=[modelcheckpoint(model0.name)])"
   ]
  },
  {
   "cell_type": "code",
   "execution_count": 231,
   "metadata": {},
   "outputs": [
    {
     "data": {
      "text/plain": [
       "(<Figure size 1000x500 with 2 Axes>,\n",
       " array([<AxesSubplot: title={'center': 'Loss'}, xlabel='Epochs', ylabel='Loss'>,\n",
       "        <AxesSubplot: title={'center': 'Accuracy'}, xlabel='Epochs', ylabel='Accuracy'>],\n",
       "       dtype=object))"
      ]
     },
     "execution_count": 231,
     "metadata": {},
     "output_type": "execute_result"
    },
    {
     "data": {
      "image/png": "[encoded data removed]",
      "text/plain": [
       "<Figure size 1000x500 with 2 Axes>"
      ]
     },
     "metadata": {},
     "output_type": "display_data"
    }
   ],
   "source": [
    "plot_history(history0)"
   ]
  },
  {
   "cell_type": "code",
   "execution_count": 232,
   "metadata": {},
   "outputs": [
    {
     "name": "stdout",
     "output_type": "stream",
     "text": [
      "42/42 [==============================] - 0s 3ms/step - loss: 0.2712 - accuracy: 0.7383\n"
     ]
    },
    {
     "data": {
      "text/plain": [
       "[0.2711549699306488, 0.7382753491401672]"
      ]
     },
     "execution_count": 232,
     "metadata": {},
     "output_type": "execute_result"
    }
   ],
   "source": [
    "model0.evaluate(x_test_normal, y_test)"
   ]
  },
  {
   "cell_type": "code",
   "execution_count": 233,
   "metadata": {},
   "outputs": [
    {
     "name": "stdout",
     "output_type": "stream",
     "text": [
      "42/42 [==============================] - 0s 2ms/step\n"
     ]
    }
   ],
   "source": [
    "# Loading the best model to make predictions on the data\n",
    "\n",
    "model_0 = tf.keras.models.load_model(\"spaceship_model/model0_dense/\")\n",
    "model_0_preds = model_0.predict(x_test_normal)"
   ]
  },
  {
   "cell_type": "code",
   "execution_count": 234,
   "metadata": {},
   "outputs": [],
   "source": [
    "from sklearn.metrics import accuracy_score"
   ]
  },
  {
   "cell_type": "code",
   "execution_count": 235,
   "metadata": {},
   "outputs": [
    {
     "name": "stdout",
     "output_type": "stream",
     "text": [
      "We saved the best model and we predicted the validation data on it. The accuracy of it is 73%\n"
     ]
    }
   ],
   "source": [
    "model_0_accuracy = accuracy_score(y_true=y_test,\n",
    "                                 y_pred=tf.round(model_0_preds))\n",
    "\n",
    "print(f\"We saved the best model and we predicted the validation data on it. The accuracy of it is {int(model_0_accuracy*100)}%\")"
   ]
  },
  {
   "cell_type": "code",
   "execution_count": 236,
   "metadata": {},
   "outputs": [
    {
     "data": {
      "text/html": [
       "<div>\n",
       "<style scoped>\n",
       "    .dataframe tbody tr th:only-of-type {\n",
       "        vertical-align: middle;\n",
       "    }\n",
       "\n",
       "    .dataframe tbody tr th {\n",
       "        vertical-align: top;\n",
       "    }\n",
       "\n",
       "    .dataframe thead th {\n",
       "        text-align: right;\n",
       "    }\n",
       "</style>\n",
       "<table border=\"1\" class=\"dataframe\">\n",
       "  <thead>\n",
       "    <tr style=\"text-align: right;\">\n",
       "      <th></th>\n",
       "      <th>PassengerId</th>\n",
       "      <th>HomePlanet</th>\n",
       "      <th>CryoSleep</th>\n",
       "      <th>Cabin</th>\n",
       "      <th>Destination</th>\n",
       "      <th>Age</th>\n",
       "      <th>VIP</th>\n",
       "      <th>RoomService</th>\n",
       "      <th>FoodCourt</th>\n",
       "      <th>ShoppingMall</th>\n",
       "      <th>Spa</th>\n",
       "      <th>VRDeck</th>\n",
       "      <th>Name</th>\n",
       "    </tr>\n",
       "  </thead>\n",
       "  <tbody>\n",
       "    <tr>\n",
       "      <th>0</th>\n",
       "      <td>0013_01</td>\n",
       "      <td>Earth</td>\n",
       "      <td>True</td>\n",
       "      <td>G/3/S</td>\n",
       "      <td>TRAPPIST-1e</td>\n",
       "      <td>27.0</td>\n",
       "      <td>False</td>\n",
       "      <td>0.0</td>\n",
       "      <td>0.0</td>\n",
       "      <td>0.0</td>\n",
       "      <td>0.0</td>\n",
       "      <td>0.0</td>\n",
       "      <td>Nelly Carsoning</td>\n",
       "    </tr>\n",
       "    <tr>\n",
       "      <th>1</th>\n",
       "      <td>0018_01</td>\n",
       "      <td>Earth</td>\n",
       "      <td>False</td>\n",
       "      <td>F/4/S</td>\n",
       "      <td>TRAPPIST-1e</td>\n",
       "      <td>19.0</td>\n",
       "      <td>False</td>\n",
       "      <td>0.0</td>\n",
       "      <td>9.0</td>\n",
       "      <td>0.0</td>\n",
       "      <td>2823.0</td>\n",
       "      <td>0.0</td>\n",
       "      <td>Lerome Peckers</td>\n",
       "    </tr>\n",
       "    <tr>\n",
       "      <th>2</th>\n",
       "      <td>0019_01</td>\n",
       "      <td>Europa</td>\n",
       "      <td>True</td>\n",
       "      <td>C/0/S</td>\n",
       "      <td>55 Cancri e</td>\n",
       "      <td>31.0</td>\n",
       "      <td>False</td>\n",
       "      <td>0.0</td>\n",
       "      <td>0.0</td>\n",
       "      <td>0.0</td>\n",
       "      <td>0.0</td>\n",
       "      <td>0.0</td>\n",
       "      <td>Sabih Unhearfus</td>\n",
       "    </tr>\n",
       "    <tr>\n",
       "      <th>3</th>\n",
       "      <td>0021_01</td>\n",
       "      <td>Europa</td>\n",
       "      <td>False</td>\n",
       "      <td>C/1/S</td>\n",
       "      <td>TRAPPIST-1e</td>\n",
       "      <td>38.0</td>\n",
       "      <td>False</td>\n",
       "      <td>0.0</td>\n",
       "      <td>6652.0</td>\n",
       "      <td>0.0</td>\n",
       "      <td>181.0</td>\n",
       "      <td>585.0</td>\n",
       "      <td>Meratz Caltilter</td>\n",
       "    </tr>\n",
       "    <tr>\n",
       "      <th>4</th>\n",
       "      <td>0023_01</td>\n",
       "      <td>Earth</td>\n",
       "      <td>False</td>\n",
       "      <td>F/5/S</td>\n",
       "      <td>TRAPPIST-1e</td>\n",
       "      <td>20.0</td>\n",
       "      <td>False</td>\n",
       "      <td>10.0</td>\n",
       "      <td>0.0</td>\n",
       "      <td>635.0</td>\n",
       "      <td>0.0</td>\n",
       "      <td>0.0</td>\n",
       "      <td>Brence Harperez</td>\n",
       "    </tr>\n",
       "  </tbody>\n",
       "</table>\n",
       "</div>"
      ],
      "text/plain": [
       "  PassengerId HomePlanet CryoSleep  Cabin  Destination   Age    VIP  \\\n",
       "0     0013_01      Earth      True  G/3/S  TRAPPIST-1e  27.0  False   \n",
       "1     0018_01      Earth     False  F/4/S  TRAPPIST-1e  19.0  False   \n",
       "2     0019_01     Europa      True  C/0/S  55 Cancri e  31.0  False   \n",
       "3     0021_01     Europa     False  C/1/S  TRAPPIST-1e  38.0  False   \n",
       "4     0023_01      Earth     False  F/5/S  TRAPPIST-1e  20.0  False   \n",
       "\n",
       "   RoomService  FoodCourt  ShoppingMall     Spa  VRDeck              Name  \n",
       "0          0.0        0.0           0.0     0.0     0.0   Nelly Carsoning  \n",
       "1          0.0        9.0           0.0  2823.0     0.0    Lerome Peckers  \n",
       "2          0.0        0.0           0.0     0.0     0.0   Sabih Unhearfus  \n",
       "3          0.0     6652.0           0.0   181.0   585.0  Meratz Caltilter  \n",
       "4         10.0        0.0         635.0     0.0     0.0   Brence Harperez  "
      ]
     },
     "execution_count": 236,
     "metadata": {},
     "output_type": "execute_result"
    }
   ],
   "source": [
    "test_data.head()"
   ]
  },
  {
   "cell_type": "code",
   "execution_count": 237,
   "metadata": {},
   "outputs": [
    {
     "name": "stdout",
     "output_type": "stream",
     "text": [
      "Epoch 1/50\n",
      "166/166 - 1s - loss: 0.4086 - accuracy: 0.6879 - val_loss: 0.3277 - val_accuracy: 0.7307 - 1s/epoch - 8ms/step\n",
      "Epoch 2/50\n",
      "166/166 - 1s - loss: 0.3005 - accuracy: 0.7216 - val_loss: 0.2843 - val_accuracy: 0.7239 - 676ms/epoch - 4ms/step\n",
      "Epoch 3/50\n",
      "166/166 - 1s - loss: 0.2807 - accuracy: 0.7273 - val_loss: 0.2743 - val_accuracy: 0.7300 - 570ms/epoch - 3ms/step\n",
      "Epoch 4/50\n",
      "166/166 - 1s - loss: 0.2731 - accuracy: 0.7347 - val_loss: 0.2664 - val_accuracy: 0.7443 - 681ms/epoch - 4ms/step\n",
      "Epoch 5/50\n",
      "166/166 - 1s - loss: 0.2669 - accuracy: 0.7474 - val_loss: 0.2595 - val_accuracy: 0.7617 - 695ms/epoch - 4ms/step\n",
      "Epoch 6/50\n",
      "166/166 - 1s - loss: 0.2624 - accuracy: 0.7526 - val_loss: 0.2552 - val_accuracy: 0.7625 - 696ms/epoch - 4ms/step\n",
      "Epoch 7/50\n",
      "166/166 - 1s - loss: 0.2593 - accuracy: 0.7515 - val_loss: 0.2526 - val_accuracy: 0.7595 - 660ms/epoch - 4ms/step\n",
      "Epoch 8/50\n",
      "166/166 - 1s - loss: 0.2570 - accuracy: 0.7525 - val_loss: 0.2492 - val_accuracy: 0.7617 - 670ms/epoch - 4ms/step\n",
      "Epoch 9/50\n",
      "166/166 - 1s - loss: 0.2540 - accuracy: 0.7544 - val_loss: 0.2470 - val_accuracy: 0.7648 - 628ms/epoch - 4ms/step\n",
      "Epoch 10/50\n",
      "166/166 - 1s - loss: 0.2512 - accuracy: 0.7597 - val_loss: 0.2439 - val_accuracy: 0.7723 - 668ms/epoch - 4ms/step\n",
      "Epoch 11/50\n",
      "166/166 - 1s - loss: 0.2488 - accuracy: 0.7598 - val_loss: 0.2421 - val_accuracy: 0.7738 - 719ms/epoch - 4ms/step\n",
      "Epoch 12/50\n",
      "166/166 - 1s - loss: 0.2463 - accuracy: 0.7651 - val_loss: 0.2405 - val_accuracy: 0.7753 - 640ms/epoch - 4ms/step\n",
      "Epoch 13/50\n",
      "166/166 - 1s - loss: 0.2446 - accuracy: 0.7680 - val_loss: 0.2391 - val_accuracy: 0.7753 - 673ms/epoch - 4ms/step\n",
      "Epoch 14/50\n",
      "166/166 - 1s - loss: 0.2425 - accuracy: 0.7667 - val_loss: 0.2359 - val_accuracy: 0.7700 - 678ms/epoch - 4ms/step\n",
      "Epoch 15/50\n",
      "166/166 - 1s - loss: 0.2396 - accuracy: 0.7706 - val_loss: 0.2348 - val_accuracy: 0.7700 - 780ms/epoch - 5ms/step\n",
      "Epoch 16/50\n",
      "166/166 - 1s - loss: 0.2373 - accuracy: 0.7716 - val_loss: 0.2282 - val_accuracy: 0.7814 - 757ms/epoch - 5ms/step\n",
      "Epoch 17/50\n",
      "166/166 - 1s - loss: 0.2359 - accuracy: 0.7714 - val_loss: 0.2253 - val_accuracy: 0.7874 - 771ms/epoch - 5ms/step\n",
      "Epoch 18/50\n",
      "166/166 - 1s - loss: 0.2334 - accuracy: 0.7765 - val_loss: 0.2233 - val_accuracy: 0.7950 - 733ms/epoch - 4ms/step\n",
      "Epoch 19/50\n",
      "166/166 - 1s - loss: 0.2321 - accuracy: 0.7805 - val_loss: 0.2218 - val_accuracy: 0.7973 - 718ms/epoch - 4ms/step\n",
      "Epoch 20/50\n",
      "166/166 - 1s - loss: 0.2307 - accuracy: 0.7797 - val_loss: 0.2229 - val_accuracy: 0.7905 - 698ms/epoch - 4ms/step\n",
      "Epoch 21/50\n",
      "166/166 - 1s - loss: 0.2298 - accuracy: 0.7833 - val_loss: 0.2197 - val_accuracy: 0.7958 - 756ms/epoch - 5ms/step\n",
      "Epoch 22/50\n",
      "166/166 - 1s - loss: 0.2282 - accuracy: 0.7799 - val_loss: 0.2205 - val_accuracy: 0.7897 - 743ms/epoch - 4ms/step\n",
      "Epoch 23/50\n",
      "166/166 - 1s - loss: 0.2270 - accuracy: 0.7812 - val_loss: 0.2179 - val_accuracy: 0.7950 - 735ms/epoch - 4ms/step\n",
      "Epoch 24/50\n",
      "166/166 - 1s - loss: 0.2259 - accuracy: 0.7839 - val_loss: 0.2166 - val_accuracy: 0.7965 - 720ms/epoch - 4ms/step\n",
      "Epoch 25/50\n",
      "166/166 - 1s - loss: 0.2246 - accuracy: 0.7839 - val_loss: 0.2166 - val_accuracy: 0.7912 - 727ms/epoch - 4ms/step\n",
      "Epoch 26/50\n",
      "166/166 - 1s - loss: 0.2238 - accuracy: 0.7863 - val_loss: 0.2164 - val_accuracy: 0.7897 - 702ms/epoch - 4ms/step\n",
      "Epoch 27/50\n",
      "166/166 - 1s - loss: 0.2228 - accuracy: 0.7856 - val_loss: 0.2184 - val_accuracy: 0.7882 - 777ms/epoch - 5ms/step\n",
      "Epoch 28/50\n",
      "166/166 - 1s - loss: 0.2233 - accuracy: 0.7858 - val_loss: 0.2159 - val_accuracy: 0.7935 - 746ms/epoch - 4ms/step\n",
      "Epoch 29/50\n",
      "166/166 - 1s - loss: 0.2226 - accuracy: 0.7835 - val_loss: 0.2174 - val_accuracy: 0.7935 - 703ms/epoch - 4ms/step\n",
      "Epoch 30/50\n",
      "166/166 - 1s - loss: 0.2211 - accuracy: 0.7892 - val_loss: 0.2160 - val_accuracy: 0.7950 - 761ms/epoch - 5ms/step\n",
      "Epoch 31/50\n",
      "166/166 - 1s - loss: 0.2202 - accuracy: 0.7869 - val_loss: 0.2131 - val_accuracy: 0.7943 - 775ms/epoch - 5ms/step\n",
      "Epoch 32/50\n",
      "166/166 - 1s - loss: 0.2196 - accuracy: 0.7897 - val_loss: 0.2136 - val_accuracy: 0.8003 - 768ms/epoch - 5ms/step\n",
      "Epoch 33/50\n",
      "166/166 - 1s - loss: 0.2196 - accuracy: 0.7903 - val_loss: 0.2129 - val_accuracy: 0.7965 - 739ms/epoch - 4ms/step\n",
      "Epoch 34/50\n",
      "166/166 - 1s - loss: 0.2186 - accuracy: 0.7905 - val_loss: 0.2132 - val_accuracy: 0.7973 - 717ms/epoch - 4ms/step\n",
      "Epoch 35/50\n",
      "166/166 - 1s - loss: 0.2178 - accuracy: 0.7945 - val_loss: 0.2127 - val_accuracy: 0.7935 - 724ms/epoch - 4ms/step\n",
      "Epoch 36/50\n",
      "166/166 - 1s - loss: 0.2182 - accuracy: 0.7909 - val_loss: 0.2130 - val_accuracy: 0.7973 - 681ms/epoch - 4ms/step\n",
      "Epoch 37/50\n",
      "166/166 - 1s - loss: 0.2172 - accuracy: 0.7905 - val_loss: 0.2128 - val_accuracy: 0.7958 - 727ms/epoch - 4ms/step\n",
      "Epoch 38/50\n",
      "166/166 - 1s - loss: 0.2168 - accuracy: 0.7892 - val_loss: 0.2163 - val_accuracy: 0.7943 - 717ms/epoch - 4ms/step\n",
      "Epoch 39/50\n",
      "166/166 - 1s - loss: 0.2174 - accuracy: 0.7890 - val_loss: 0.2116 - val_accuracy: 0.7980 - 729ms/epoch - 4ms/step\n",
      "Epoch 40/50\n",
      "166/166 - 1s - loss: 0.2162 - accuracy: 0.7913 - val_loss: 0.2111 - val_accuracy: 0.7943 - 675ms/epoch - 4ms/step\n",
      "Epoch 41/50\n",
      "166/166 - 1s - loss: 0.2161 - accuracy: 0.7901 - val_loss: 0.2106 - val_accuracy: 0.7958 - 789ms/epoch - 5ms/step\n",
      "Epoch 42/50\n",
      "166/166 - 1s - loss: 0.2152 - accuracy: 0.7911 - val_loss: 0.2130 - val_accuracy: 0.7890 - 699ms/epoch - 4ms/step\n",
      "Epoch 43/50\n",
      "166/166 - 1s - loss: 0.2148 - accuracy: 0.7933 - val_loss: 0.2121 - val_accuracy: 0.7905 - 688ms/epoch - 4ms/step\n",
      "Epoch 44/50\n",
      "166/166 - 1s - loss: 0.2151 - accuracy: 0.7916 - val_loss: 0.2112 - val_accuracy: 0.7935 - 729ms/epoch - 4ms/step\n",
      "Epoch 45/50\n",
      "166/166 - 1s - loss: 0.2143 - accuracy: 0.7928 - val_loss: 0.2104 - val_accuracy: 0.7950 - 720ms/epoch - 4ms/step\n",
      "Epoch 46/50\n",
      "166/166 - 1s - loss: 0.2144 - accuracy: 0.7905 - val_loss: 0.2122 - val_accuracy: 0.7897 - 700ms/epoch - 4ms/step\n",
      "Epoch 47/50\n",
      "166/166 - 1s - loss: 0.2142 - accuracy: 0.7928 - val_loss: 0.2103 - val_accuracy: 0.7920 - 719ms/epoch - 4ms/step\n",
      "Epoch 48/50\n",
      "166/166 - 1s - loss: 0.2145 - accuracy: 0.7939 - val_loss: 0.2099 - val_accuracy: 0.7973 - 716ms/epoch - 4ms/step\n",
      "Epoch 49/50\n",
      "166/166 - 1s - loss: 0.2139 - accuracy: 0.7909 - val_loss: 0.2105 - val_accuracy: 0.7927 - 681ms/epoch - 4ms/step\n",
      "Epoch 50/50\n",
      "166/166 - 1s - loss: 0.2137 - accuracy: 0.7909 - val_loss: 0.2107 - val_accuracy: 0.7943 - 680ms/epoch - 4ms/step\n"
     ]
    }
   ],
   "source": [
    "# Building another dense model with Sequential API\n",
    "\n",
    "tf.random.set_seed(42)\n",
    "\n",
    "# 1. Create a model\n",
    "\n",
    "model1 = tf.keras.Sequential([\n",
    "    tf.keras.Input(shape=(x_train_normal[1].shape)),\n",
    "    tf.keras.layers.Dense(64, activation=\"relu\"),\n",
    "    tf.keras.layers.Dense(1, activation=\"sigmoid\")\n",
    "], name=\"model1_dense\")\n",
    "\n",
    "\n",
    "# 2. Compile the model\n",
    "\n",
    "model1.compile(loss=tf.keras.losses.mae,\n",
    "                  optimizer=tf.keras.optimizers.Adam(),\n",
    "                  metrics = [\"accuracy\"])\n",
    "\n",
    "# 3. Fit the model\n",
    "\n",
    "history1 = model1.fit(x_train_normal,y_train,\n",
    "                      epochs=50,\n",
    "                      verbose = 2,\n",
    "                      validation_data=(x_test_normal, y_test),\n",
    "                      callbacks=[modelcheckpoint(model1.name)])"
   ]
  },
  {
   "cell_type": "code",
   "execution_count": 238,
   "metadata": {},
   "outputs": [
    {
     "data": {
      "text/plain": [
       "(<Figure size 1000x500 with 2 Axes>,\n",
       " array([<AxesSubplot: title={'center': 'Loss'}, xlabel='Epochs', ylabel='Loss'>,\n",
       "        <AxesSubplot: title={'center': 'Accuracy'}, xlabel='Epochs', ylabel='Accuracy'>],\n",
       "       dtype=object))"
      ]
     },
     "execution_count": 238,
     "metadata": {},
     "output_type": "execute_result"
    },
    {
     "data": {
      "image/png": "[encoded data removed]",
      "text/plain": [
       "<Figure size 1000x500 with 2 Axes>"
      ]
     },
     "metadata": {},
     "output_type": "display_data"
    }
   ],
   "source": [
    "plot_history(history1)"
   ]
  },
  {
   "cell_type": "code",
   "execution_count": 239,
   "metadata": {},
   "outputs": [
    {
     "name": "stdout",
     "output_type": "stream",
     "text": [
      "42/42 [==============================] - 0s 4ms/step - loss: 0.2107 - accuracy: 0.7943\n"
     ]
    },
    {
     "data": {
      "text/plain": [
       "[0.21067608892917633, 0.7942511439323425]"
      ]
     },
     "execution_count": 239,
     "metadata": {},
     "output_type": "execute_result"
    }
   ],
   "source": [
    "model1.evaluate(x_test_normal, y_test)"
   ]
  },
  {
   "cell_type": "code",
   "execution_count": 240,
   "metadata": {},
   "outputs": [
    {
     "name": "stdout",
     "output_type": "stream",
     "text": [
      "42/42 [==============================] - 0s 3ms/step\n",
      "We saved the best model and we predicted the validation data on it. The accuracy of it is 78%\n"
     ]
    }
   ],
   "source": [
    "# Loading the best model to make predictions \n",
    "model_1 = tf.keras.models.load_model(\"spaceship_model/model1_dense/\")\n",
    "model_1_preds = model_1.predict(x_test_normal)\n",
    "\n",
    "model_1_accuracy = accuracy_score(y_true=y_test,\n",
    "                                 y_pred=tf.round(model_1_preds))\n",
    "\n",
    "print(f\"We saved the best model and we predicted the validation data on it. The accuracy of it is {int(model_1_accuracy*100)}%\")"
   ]
  },
  {
   "cell_type": "code",
   "execution_count": 241,
   "metadata": {},
   "outputs": [],
   "source": [
    "# Creating another dim for the Conv1D model\n",
    "\n",
    "x_train_normal_expanded = np.stack(x_train_normal, axis=0)  \n",
    "x_test_normal_expanded = np.stack(x_test_normal, axis=0)  "
   ]
  },
  {
   "cell_type": "code",
   "execution_count": 242,
   "metadata": {},
   "outputs": [
    {
     "data": {
      "text/plain": [
       "(5284, 17)"
      ]
     },
     "execution_count": 242,
     "metadata": {},
     "output_type": "execute_result"
    }
   ],
   "source": [
    "x_train_normal_expanded.shape"
   ]
  },
  {
   "cell_type": "code",
   "execution_count": 243,
   "metadata": {},
   "outputs": [
    {
     "data": {
      "text/plain": [
       "((5284, 17), (1322, 17))"
      ]
     },
     "execution_count": 243,
     "metadata": {},
     "output_type": "execute_result"
    }
   ],
   "source": [
    "x_train_normal.shape, x_test_normal_expanded.shape"
   ]
  },
  {
   "cell_type": "code",
   "execution_count": 244,
   "metadata": {},
   "outputs": [
    {
     "data": {
      "text/plain": [
       "(5284,)"
      ]
     },
     "execution_count": 244,
     "metadata": {},
     "output_type": "execute_result"
    }
   ],
   "source": [
    "y_train.shape"
   ]
  },
  {
   "cell_type": "code",
   "execution_count": 245,
   "metadata": {},
   "outputs": [],
   "source": [
    "tf.random.set_seed(42)\n",
    "\n",
    "# Creating a Conv1D model with Functional API\n",
    "\n",
    "inputs = layers.Input(shape=((x_train_normal_expanded.shape[1],1)))\n",
    "x = layers.Conv1D(64, 3, activation=\"relu\")(inputs)\n",
    "x = layers.GlobalMaxPooling1D()(x)\n",
    "x = layers.Dense(64, activation=\"relu\")(x)\n",
    "outputs = layers.Dense(1, activation=\"sigmoid\")(x)\n",
    "model2 = tf.keras.Model(inputs, outputs, name=\"model2_conv1d\")\n"
   ]
  },
  {
   "cell_type": "code",
   "execution_count": 246,
   "metadata": {},
   "outputs": [
    {
     "name": "stdout",
     "output_type": "stream",
     "text": [
      "Model: \"model2_conv1d\"\n",
      "_________________________________________________________________\n",
      " Layer (type)                Output Shape              Param #   \n",
      "=================================================================\n",
      " input_10 (InputLayer)       [(None, 17, 1)]           0         \n",
      "                                                                 \n",
      " conv1d_4 (Conv1D)           (None, 15, 64)            256       \n",
      "                                                                 \n",
      " global_max_pooling1d_4 (Glo  (None, 64)               0         \n",
      " balMaxPooling1D)                                                \n",
      "                                                                 \n",
      " dense_32 (Dense)            (None, 64)                4160      \n",
      "                                                                 \n",
      " dense_33 (Dense)            (None, 1)                 65        \n",
      "                                                                 \n",
      "=================================================================\n",
      "Total params: 4,481\n",
      "Trainable params: 4,481\n",
      "Non-trainable params: 0\n",
      "_________________________________________________________________\n"
     ]
    }
   ],
   "source": [
    "model2.summary()\n"
   ]
  },
  {
   "cell_type": "code",
   "execution_count": 247,
   "metadata": {},
   "outputs": [],
   "source": [
    "\n",
    "model2.compile(loss=tf.keras.losses.mae,\n",
    "                  optimizer=tf.keras.optimizers.Adam(),\n",
    "                  metrics = [\"accuracy\"])\n",
    "\n",
    "# 3. Fit the model\n",
    "\n",
    "history2 = model2.fit(x_train_normal_expanded,y_train,\n",
    "                      epochs=25,\n",
    "                      verbose = 0,\n",
    "                      batch_size=128,\n",
    "                      validation_data=(x_test_normal_expanded, y_test),\n",
    "                      callbacks=[modelcheckpoint(model2.name)])"
   ]
  },
  {
   "cell_type": "code",
   "execution_count": 248,
   "metadata": {},
   "outputs": [
    {
     "name": "stdout",
     "output_type": "stream",
     "text": [
      "42/42 [==============================] - 0s 4ms/step - loss: 0.3406 - accuracy: 0.6573\n"
     ]
    },
    {
     "data": {
      "text/plain": [
       "[0.34055522084236145, 0.6573373675346375]"
      ]
     },
     "execution_count": 248,
     "metadata": {},
     "output_type": "execute_result"
    }
   ],
   "source": [
    "model2.evaluate(x_test_normal_expanded, y_test)"
   ]
  },
  {
   "cell_type": "code",
   "execution_count": 249,
   "metadata": {},
   "outputs": [
    {
     "name": "stdout",
     "output_type": "stream",
     "text": [
      "42/42 [==============================] - 0s 3ms/step\n",
      "We saved the best model and we predicted the validation data on it. The accuracy of it is 72%\n"
     ]
    }
   ],
   "source": [
    "# Loading the best model to make predictions \n",
    "model_2 = tf.keras.models.load_model(\"spaceship_model/model2_conv1d/\")\n",
    "model_2_preds = model_2.predict(x_test_normal_expanded)\n",
    "\n",
    "model_2_accuracy = accuracy_score(y_true=y_test,\n",
    "                                 y_pred=tf.round(model_2_preds))\n",
    "\n",
    "print(f\"We saved the best model and we predicted the validation data on it. The accuracy of it is {int(model_2_accuracy*100)}%\")"
   ]
  },
  {
   "cell_type": "code",
   "execution_count": 250,
   "metadata": {},
   "outputs": [],
   "source": [
    "import xgboost as xgb"
   ]
  },
  {
   "cell_type": "code",
   "execution_count": 251,
   "metadata": {},
   "outputs": [],
   "source": [
    "train = xgb.DMatrix(x_train_normal, y_train)\n",
    "test = xgb.DMatrix(x_test_normal, y_test)"
   ]
  },
  {
   "cell_type": "code",
   "execution_count": 252,
   "metadata": {},
   "outputs": [],
   "source": [
    "params = {\"learning_rate\": 0.001,\n",
    "          \"max_depth\": 5}"
   ]
  },
  {
   "cell_type": "code",
   "execution_count": 253,
   "metadata": {},
   "outputs": [
    {
     "name": "stdout",
     "output_type": "stream",
     "text": [
      "[0]\tvalidation-rmse:0.49979\n",
      "[1]\tvalidation-rmse:0.49959\n",
      "[2]\tvalidation-rmse:0.49938\n",
      "[3]\tvalidation-rmse:0.49918\n",
      "[4]\tvalidation-rmse:0.49897\n",
      "[5]\tvalidation-rmse:0.49877\n",
      "[6]\tvalidation-rmse:0.49856\n",
      "[7]\tvalidation-rmse:0.49836\n",
      "[8]\tvalidation-rmse:0.49816\n",
      "[9]\tvalidation-rmse:0.49795\n",
      "[10]\tvalidation-rmse:0.49775\n",
      "[11]\tvalidation-rmse:0.49755\n",
      "[12]\tvalidation-rmse:0.49734\n",
      "[13]\tvalidation-rmse:0.49714\n",
      "[14]\tvalidation-rmse:0.49694\n",
      "[15]\tvalidation-rmse:0.49674\n",
      "[16]\tvalidation-rmse:0.49654\n",
      "[17]\tvalidation-rmse:0.49634\n",
      "[18]\tvalidation-rmse:0.49614\n",
      "[19]\tvalidation-rmse:0.49594\n",
      "[20]\tvalidation-rmse:0.49574\n",
      "[21]\tvalidation-rmse:0.49554\n",
      "[22]\tvalidation-rmse:0.49534\n",
      "[23]\tvalidation-rmse:0.49514\n",
      "[24]\tvalidation-rmse:0.49494\n",
      "[25]\tvalidation-rmse:0.49474\n",
      "[26]\tvalidation-rmse:0.49454\n",
      "[27]\tvalidation-rmse:0.49434\n",
      "[28]\tvalidation-rmse:0.49415\n",
      "[29]\tvalidation-rmse:0.49395\n",
      "[30]\tvalidation-rmse:0.49375\n",
      "[31]\tvalidation-rmse:0.49356\n",
      "[32]\tvalidation-rmse:0.49336\n",
      "[33]\tvalidation-rmse:0.49317\n",
      "[34]\tvalidation-rmse:0.49297\n",
      "[35]\tvalidation-rmse:0.49277\n",
      "[36]\tvalidation-rmse:0.49258\n",
      "[37]\tvalidation-rmse:0.49239\n",
      "[38]\tvalidation-rmse:0.49219\n",
      "[39]\tvalidation-rmse:0.49200\n",
      "[40]\tvalidation-rmse:0.49180\n",
      "[41]\tvalidation-rmse:0.49161\n",
      "[42]\tvalidation-rmse:0.49142\n",
      "[43]\tvalidation-rmse:0.49122\n",
      "[44]\tvalidation-rmse:0.49103\n",
      "[45]\tvalidation-rmse:0.49084\n",
      "[46]\tvalidation-rmse:0.49065\n",
      "[47]\tvalidation-rmse:0.49046\n",
      "[48]\tvalidation-rmse:0.49027\n",
      "[49]\tvalidation-rmse:0.49008\n",
      "[50]\tvalidation-rmse:0.48989\n",
      "[51]\tvalidation-rmse:0.48970\n",
      "[52]\tvalidation-rmse:0.48951\n",
      "[53]\tvalidation-rmse:0.48932\n",
      "[54]\tvalidation-rmse:0.48913\n",
      "[55]\tvalidation-rmse:0.48894\n",
      "[56]\tvalidation-rmse:0.48875\n",
      "[57]\tvalidation-rmse:0.48856\n",
      "[58]\tvalidation-rmse:0.48837\n",
      "[59]\tvalidation-rmse:0.48819\n",
      "[60]\tvalidation-rmse:0.48800\n",
      "[61]\tvalidation-rmse:0.48781\n",
      "[62]\tvalidation-rmse:0.48762\n",
      "[63]\tvalidation-rmse:0.48744\n",
      "[64]\tvalidation-rmse:0.48725\n",
      "[65]\tvalidation-rmse:0.48707\n",
      "[66]\tvalidation-rmse:0.48688\n",
      "[67]\tvalidation-rmse:0.48669\n",
      "[68]\tvalidation-rmse:0.48651\n",
      "[69]\tvalidation-rmse:0.48632\n",
      "[70]\tvalidation-rmse:0.48613\n",
      "[71]\tvalidation-rmse:0.48595\n",
      "[72]\tvalidation-rmse:0.48576\n",
      "[73]\tvalidation-rmse:0.48558\n",
      "[74]\tvalidation-rmse:0.48539\n",
      "[75]\tvalidation-rmse:0.48521\n",
      "[76]\tvalidation-rmse:0.48503\n",
      "[77]\tvalidation-rmse:0.48484\n",
      "[78]\tvalidation-rmse:0.48466\n",
      "[79]\tvalidation-rmse:0.48448\n",
      "[80]\tvalidation-rmse:0.48430\n",
      "[81]\tvalidation-rmse:0.48411\n",
      "[82]\tvalidation-rmse:0.48393\n",
      "[83]\tvalidation-rmse:0.48375\n",
      "[84]\tvalidation-rmse:0.48356\n",
      "[85]\tvalidation-rmse:0.48339\n",
      "[86]\tvalidation-rmse:0.48320\n",
      "[87]\tvalidation-rmse:0.48302\n",
      "[88]\tvalidation-rmse:0.48284\n",
      "[89]\tvalidation-rmse:0.48266\n",
      "[90]\tvalidation-rmse:0.48248\n",
      "[91]\tvalidation-rmse:0.48230\n",
      "[92]\tvalidation-rmse:0.48213\n",
      "[93]\tvalidation-rmse:0.48194\n",
      "[94]\tvalidation-rmse:0.48177\n",
      "[95]\tvalidation-rmse:0.48159\n",
      "[96]\tvalidation-rmse:0.48141\n",
      "[97]\tvalidation-rmse:0.48123\n",
      "[98]\tvalidation-rmse:0.48106\n",
      "[99]\tvalidation-rmse:0.48088\n"
     ]
    }
   ],
   "source": [
    "# Creating another model with XGBoost\n",
    "\n",
    "model3 = xgb.train(params, train, evals=[(test, \"validation\")],\n",
    "                   num_boost_round=100, early_stopping_rounds=20)"
   ]
  },
  {
   "cell_type": "code",
   "execution_count": 254,
   "metadata": {},
   "outputs": [
    {
     "name": "stdout",
     "output_type": "stream",
     "text": [
      "We predicted the XGBOOST model on the validation data. The accuracy of it is: 77%\n"
     ]
    }
   ],
   "source": [
    "model3_preds = model3.predict(test)\n",
    "model3_accuracy = accuracy_score(y_test, tf.round(model3_preds))\n",
    "\n",
    "print(f\"We predicted the XGBOOST model on the validation data. The accuracy of it is: {int(model3_accuracy*100)}%\")"
   ]
  },
  {
   "cell_type": "code",
   "execution_count": 255,
   "metadata": {},
   "outputs": [
    {
     "data": {
      "text/html": [
       "<div>\n",
       "<style scoped>\n",
       "    .dataframe tbody tr th:only-of-type {\n",
       "        vertical-align: middle;\n",
       "    }\n",
       "\n",
       "    .dataframe tbody tr th {\n",
       "        vertical-align: top;\n",
       "    }\n",
       "\n",
       "    .dataframe thead th {\n",
       "        text-align: right;\n",
       "    }\n",
       "</style>\n",
       "<table border=\"1\" class=\"dataframe\">\n",
       "  <thead>\n",
       "    <tr style=\"text-align: right;\">\n",
       "      <th></th>\n",
       "      <th>PassengerId</th>\n",
       "      <th>HomePlanet</th>\n",
       "      <th>CryoSleep</th>\n",
       "      <th>Cabin</th>\n",
       "      <th>Destination</th>\n",
       "      <th>Age</th>\n",
       "      <th>VIP</th>\n",
       "      <th>RoomService</th>\n",
       "      <th>FoodCourt</th>\n",
       "      <th>ShoppingMall</th>\n",
       "      <th>Spa</th>\n",
       "      <th>VRDeck</th>\n",
       "      <th>Name</th>\n",
       "    </tr>\n",
       "  </thead>\n",
       "  <tbody>\n",
       "    <tr>\n",
       "      <th>0</th>\n",
       "      <td>0013_01</td>\n",
       "      <td>Earth</td>\n",
       "      <td>True</td>\n",
       "      <td>G/3/S</td>\n",
       "      <td>TRAPPIST-1e</td>\n",
       "      <td>27.0</td>\n",
       "      <td>False</td>\n",
       "      <td>0.0</td>\n",
       "      <td>0.0</td>\n",
       "      <td>0.0</td>\n",
       "      <td>0.0</td>\n",
       "      <td>0.0</td>\n",
       "      <td>Nelly Carsoning</td>\n",
       "    </tr>\n",
       "    <tr>\n",
       "      <th>1</th>\n",
       "      <td>0018_01</td>\n",
       "      <td>Earth</td>\n",
       "      <td>False</td>\n",
       "      <td>F/4/S</td>\n",
       "      <td>TRAPPIST-1e</td>\n",
       "      <td>19.0</td>\n",
       "      <td>False</td>\n",
       "      <td>0.0</td>\n",
       "      <td>9.0</td>\n",
       "      <td>0.0</td>\n",
       "      <td>2823.0</td>\n",
       "      <td>0.0</td>\n",
       "      <td>Lerome Peckers</td>\n",
       "    </tr>\n",
       "    <tr>\n",
       "      <th>2</th>\n",
       "      <td>0019_01</td>\n",
       "      <td>Europa</td>\n",
       "      <td>True</td>\n",
       "      <td>C/0/S</td>\n",
       "      <td>55 Cancri e</td>\n",
       "      <td>31.0</td>\n",
       "      <td>False</td>\n",
       "      <td>0.0</td>\n",
       "      <td>0.0</td>\n",
       "      <td>0.0</td>\n",
       "      <td>0.0</td>\n",
       "      <td>0.0</td>\n",
       "      <td>Sabih Unhearfus</td>\n",
       "    </tr>\n",
       "    <tr>\n",
       "      <th>3</th>\n",
       "      <td>0021_01</td>\n",
       "      <td>Europa</td>\n",
       "      <td>False</td>\n",
       "      <td>C/1/S</td>\n",
       "      <td>TRAPPIST-1e</td>\n",
       "      <td>38.0</td>\n",
       "      <td>False</td>\n",
       "      <td>0.0</td>\n",
       "      <td>6652.0</td>\n",
       "      <td>0.0</td>\n",
       "      <td>181.0</td>\n",
       "      <td>585.0</td>\n",
       "      <td>Meratz Caltilter</td>\n",
       "    </tr>\n",
       "    <tr>\n",
       "      <th>4</th>\n",
       "      <td>0023_01</td>\n",
       "      <td>Earth</td>\n",
       "      <td>False</td>\n",
       "      <td>F/5/S</td>\n",
       "      <td>TRAPPIST-1e</td>\n",
       "      <td>20.0</td>\n",
       "      <td>False</td>\n",
       "      <td>10.0</td>\n",
       "      <td>0.0</td>\n",
       "      <td>635.0</td>\n",
       "      <td>0.0</td>\n",
       "      <td>0.0</td>\n",
       "      <td>Brence Harperez</td>\n",
       "    </tr>\n",
       "  </tbody>\n",
       "</table>\n",
       "</div>"
      ],
      "text/plain": [
       "  PassengerId HomePlanet CryoSleep  Cabin  Destination   Age    VIP  \\\n",
       "0     0013_01      Earth      True  G/3/S  TRAPPIST-1e  27.0  False   \n",
       "1     0018_01      Earth     False  F/4/S  TRAPPIST-1e  19.0  False   \n",
       "2     0019_01     Europa      True  C/0/S  55 Cancri e  31.0  False   \n",
       "3     0021_01     Europa     False  C/1/S  TRAPPIST-1e  38.0  False   \n",
       "4     0023_01      Earth     False  F/5/S  TRAPPIST-1e  20.0  False   \n",
       "\n",
       "   RoomService  FoodCourt  ShoppingMall     Spa  VRDeck              Name  \n",
       "0          0.0        0.0           0.0     0.0     0.0   Nelly Carsoning  \n",
       "1          0.0        9.0           0.0  2823.0     0.0    Lerome Peckers  \n",
       "2          0.0        0.0           0.0     0.0     0.0   Sabih Unhearfus  \n",
       "3          0.0     6652.0           0.0   181.0   585.0  Meratz Caltilter  \n",
       "4         10.0        0.0         635.0     0.0     0.0   Brence Harperez  "
      ]
     },
     "execution_count": 255,
     "metadata": {},
     "output_type": "execute_result"
    }
   ],
   "source": [
    "test_data.head()"
   ]
  },
  {
   "cell_type": "code",
   "execution_count": 256,
   "metadata": {},
   "outputs": [
    {
     "data": {
      "text/plain": [
       "TRAPPIST-1e      2956\n",
       "55 Cancri e       841\n",
       "PSO J318.5-22     388\n",
       "Name: Destination, dtype: int64"
      ]
     },
     "execution_count": 256,
     "metadata": {},
     "output_type": "execute_result"
    }
   ],
   "source": [
    "test_data.Destination.value_counts()"
   ]
  },
  {
   "cell_type": "code",
   "execution_count": 257,
   "metadata": {},
   "outputs": [
    {
     "data": {
      "text/plain": [
       "Earth     2263\n",
       "Europa    1002\n",
       "Mars       925\n",
       "Name: HomePlanet, dtype: int64"
      ]
     },
     "execution_count": 257,
     "metadata": {},
     "output_type": "execute_result"
    }
   ],
   "source": [
    "test_data.HomePlanet.value_counts()"
   ]
  },
  {
   "cell_type": "code",
   "execution_count": 258,
   "metadata": {},
   "outputs": [
    {
     "data": {
      "text/plain": [
       "PassengerId       0\n",
       "HomePlanet       87\n",
       "CryoSleep        93\n",
       "Cabin           100\n",
       "Destination      92\n",
       "Age              91\n",
       "VIP              93\n",
       "RoomService      82\n",
       "FoodCourt       106\n",
       "ShoppingMall     98\n",
       "Spa             101\n",
       "VRDeck           80\n",
       "Name             94\n",
       "dtype: int64"
      ]
     },
     "execution_count": 258,
     "metadata": {},
     "output_type": "execute_result"
    }
   ],
   "source": [
    "test_data.isna().sum()"
   ]
  },
  {
   "cell_type": "code",
   "execution_count": 259,
   "metadata": {},
   "outputs": [],
   "source": [
    "test_data[\"PassengerId\"] = pd.factorize(test_data[\"PassengerId\"])[0].astype(float)"
   ]
  },
  {
   "cell_type": "code",
   "execution_count": 260,
   "metadata": {},
   "outputs": [],
   "source": [
    "test_data = test_data.dropna(how='any',axis=0)"
   ]
  },
  {
   "cell_type": "code",
   "execution_count": 261,
   "metadata": {},
   "outputs": [],
   "source": [
    "new_test_data = test_data.drop([\"Cabin\", \"Name\"], axis=1)"
   ]
  },
  {
   "cell_type": "code",
   "execution_count": 262,
   "metadata": {},
   "outputs": [
    {
     "data": {
      "text/html": [
       "<style>#sk-container-id-2 {color: black;background-color: white;}#sk-container-id-2 pre{padding: 0;}#sk-container-id-2 div.sk-toggleable {background-color: white;}#sk-container-id-2 label.sk-toggleable__label {cursor: pointer;display: block;width: 100%;margin-bottom: 0;padding: 0.3em;box-sizing: border-box;text-align: center;}#sk-container-id-2 label.sk-toggleable__label-arrow:before {content: \"▸\";float: left;margin-right: 0.25em;color: #696969;}#sk-container-id-2 label.sk-toggleable__label-arrow:hover:before {color: black;}#sk-container-id-2 div.sk-estimator:hover label.sk-toggleable__label-arrow:before {color: black;}#sk-container-id-2 div.sk-toggleable__content {max-height: 0;max-width: 0;overflow: hidden;text-align: left;background-color: #f0f8ff;}#sk-container-id-2 div.sk-toggleable__content pre {margin: 0.2em;color: black;border-radius: 0.25em;background-color: #f0f8ff;}#sk-container-id-2 input.sk-toggleable__control:checked~div.sk-toggleable__content {max-height: 200px;max-width: 100%;overflow: auto;}#sk-container-id-2 input.sk-toggleable__control:checked~label.sk-toggleable__label-arrow:before {content: \"▾\";}#sk-container-id-2 div.sk-estimator input.sk-toggleable__control:checked~label.sk-toggleable__label {background-color: #d4ebff;}#sk-container-id-2 div.sk-label input.sk-toggleable__control:checked~label.sk-toggleable__label {background-color: #d4ebff;}#sk-container-id-2 input.sk-hidden--visually {border: 0;clip: rect(1px 1px 1px 1px);clip: rect(1px, 1px, 1px, 1px);height: 1px;margin: -1px;overflow: hidden;padding: 0;position: absolute;width: 1px;}#sk-container-id-2 div.sk-estimator {font-family: monospace;background-color: #f0f8ff;border: 1px dotted black;border-radius: 0.25em;box-sizing: border-box;margin-bottom: 0.5em;}#sk-container-id-2 div.sk-estimator:hover {background-color: #d4ebff;}#sk-container-id-2 div.sk-parallel-item::after {content: \"\";width: 100%;border-bottom: 1px solid gray;flex-grow: 1;}#sk-container-id-2 div.sk-label:hover label.sk-toggleable__label {background-color: #d4ebff;}#sk-container-id-2 div.sk-serial::before {content: \"\";position: absolute;border-left: 1px solid gray;box-sizing: border-box;top: 0;bottom: 0;left: 50%;z-index: 0;}#sk-container-id-2 div.sk-serial {display: flex;flex-direction: column;align-items: center;background-color: white;padding-right: 0.2em;padding-left: 0.2em;position: relative;}#sk-container-id-2 div.sk-item {position: relative;z-index: 1;}#sk-container-id-2 div.sk-parallel {display: flex;align-items: stretch;justify-content: center;background-color: white;position: relative;}#sk-container-id-2 div.sk-item::before, #sk-container-id-2 div.sk-parallel-item::before {content: \"\";position: absolute;border-left: 1px solid gray;box-sizing: border-box;top: 0;bottom: 0;left: 50%;z-index: -1;}#sk-container-id-2 div.sk-parallel-item {display: flex;flex-direction: column;z-index: 1;position: relative;background-color: white;}#sk-container-id-2 div.sk-parallel-item:first-child::after {align-self: flex-end;width: 50%;}#sk-container-id-2 div.sk-parallel-item:last-child::after {align-self: flex-start;width: 50%;}#sk-container-id-2 div.sk-parallel-item:only-child::after {width: 0;}#sk-container-id-2 div.sk-dashed-wrapped {border: 1px dashed gray;margin: 0 0.4em 0.5em 0.4em;box-sizing: border-box;padding-bottom: 0.4em;background-color: white;}#sk-container-id-2 div.sk-label label {font-family: monospace;font-weight: bold;display: inline-block;line-height: 1.2em;}#sk-container-id-2 div.sk-label-container {text-align: center;}#sk-container-id-2 div.sk-container {/* jupyter's `normalize.less` sets `[hidden] { display: none; }` but bootstrap.min.css set `[hidden] { display: none !important; }` so we also need the `!important` here to be able to override the default hidden behavior on the sphinx rendered scikit-learn.org. See: https://github.com/scikit-learn/scikit-learn/issues/21755 */display: inline-block !important;position: relative;}#sk-container-id-2 div.sk-text-repr-fallback {display: none;}</style><div id=\"sk-container-id-2\" class=\"sk-top-container\"><div class=\"sk-text-repr-fallback\"><pre>ColumnTransformer(transformers=[(&#x27;minmaxscaler&#x27;, MinMaxScaler(),\n",
       "                                 [&#x27;Age&#x27;, &#x27;RoomService&#x27;, &#x27;FoodCourt&#x27;,\n",
       "                                  &#x27;ShoppingMall&#x27;, &#x27;Spa&#x27;, &#x27;VRDeck&#x27;,\n",
       "                                  &#x27;PassengerId&#x27;]),\n",
       "                                (&#x27;onehotencoder&#x27;,\n",
       "                                 OneHotEncoder(handle_unknown=&#x27;ignore&#x27;),\n",
       "                                 [&#x27;HomePlanet&#x27;, &#x27;Destination&#x27;, &#x27;VIP&#x27;,\n",
       "                                  &#x27;CryoSleep&#x27;])])</pre><b>In a Jupyter environment, please rerun this cell to show the HTML representation or trust the notebook. <br />On GitHub, the HTML representation is unable to render, please try loading this page with nbviewer.org.</b></div><div class=\"sk-container\" hidden><div class=\"sk-item sk-dashed-wrapped\"><div class=\"sk-label-container\"><div class=\"sk-label sk-toggleable\"><input class=\"sk-toggleable__control sk-hidden--visually\" id=\"sk-estimator-id-6\" type=\"checkbox\" ><label for=\"sk-estimator-id-6\" class=\"sk-toggleable__label sk-toggleable__label-arrow\">ColumnTransformer</label><div class=\"sk-toggleable__content\"><pre>ColumnTransformer(transformers=[(&#x27;minmaxscaler&#x27;, MinMaxScaler(),\n",
       "                                 [&#x27;Age&#x27;, &#x27;RoomService&#x27;, &#x27;FoodCourt&#x27;,\n",
       "                                  &#x27;ShoppingMall&#x27;, &#x27;Spa&#x27;, &#x27;VRDeck&#x27;,\n",
       "                                  &#x27;PassengerId&#x27;]),\n",
       "                                (&#x27;onehotencoder&#x27;,\n",
       "                                 OneHotEncoder(handle_unknown=&#x27;ignore&#x27;),\n",
       "                                 [&#x27;HomePlanet&#x27;, &#x27;Destination&#x27;, &#x27;VIP&#x27;,\n",
       "                                  &#x27;CryoSleep&#x27;])])</pre></div></div></div><div class=\"sk-parallel\"><div class=\"sk-parallel-item\"><div class=\"sk-item\"><div class=\"sk-label-container\"><div class=\"sk-label sk-toggleable\"><input class=\"sk-toggleable__control sk-hidden--visually\" id=\"sk-estimator-id-7\" type=\"checkbox\" ><label for=\"sk-estimator-id-7\" class=\"sk-toggleable__label sk-toggleable__label-arrow\">minmaxscaler</label><div class=\"sk-toggleable__content\"><pre>[&#x27;Age&#x27;, &#x27;RoomService&#x27;, &#x27;FoodCourt&#x27;, &#x27;ShoppingMall&#x27;, &#x27;Spa&#x27;, &#x27;VRDeck&#x27;, &#x27;PassengerId&#x27;]</pre></div></div></div><div class=\"sk-serial\"><div class=\"sk-item\"><div class=\"sk-estimator sk-toggleable\"><input class=\"sk-toggleable__control sk-hidden--visually\" id=\"sk-estimator-id-8\" type=\"checkbox\" ><label for=\"sk-estimator-id-8\" class=\"sk-toggleable__label sk-toggleable__label-arrow\">MinMaxScaler</label><div class=\"sk-toggleable__content\"><pre>MinMaxScaler()</pre></div></div></div></div></div></div><div class=\"sk-parallel-item\"><div class=\"sk-item\"><div class=\"sk-label-container\"><div class=\"sk-label sk-toggleable\"><input class=\"sk-toggleable__control sk-hidden--visually\" id=\"sk-estimator-id-9\" type=\"checkbox\" ><label for=\"sk-estimator-id-9\" class=\"sk-toggleable__label sk-toggleable__label-arrow\">onehotencoder</label><div class=\"sk-toggleable__content\"><pre>[&#x27;HomePlanet&#x27;, &#x27;Destination&#x27;, &#x27;VIP&#x27;, &#x27;CryoSleep&#x27;]</pre></div></div></div><div class=\"sk-serial\"><div class=\"sk-item\"><div class=\"sk-estimator sk-toggleable\"><input class=\"sk-toggleable__control sk-hidden--visually\" id=\"sk-estimator-id-10\" type=\"checkbox\" ><label for=\"sk-estimator-id-10\" class=\"sk-toggleable__label sk-toggleable__label-arrow\">OneHotEncoder</label><div class=\"sk-toggleable__content\"><pre>OneHotEncoder(handle_unknown=&#x27;ignore&#x27;)</pre></div></div></div></div></div></div></div></div></div></div>"
      ],
      "text/plain": [
       "ColumnTransformer(transformers=[('minmaxscaler', MinMaxScaler(),\n",
       "                                 ['Age', 'RoomService', 'FoodCourt',\n",
       "                                  'ShoppingMall', 'Spa', 'VRDeck',\n",
       "                                  'PassengerId']),\n",
       "                                ('onehotencoder',\n",
       "                                 OneHotEncoder(handle_unknown='ignore'),\n",
       "                                 ['HomePlanet', 'Destination', 'VIP',\n",
       "                                  'CryoSleep'])])"
      ]
     },
     "execution_count": 262,
     "metadata": {},
     "output_type": "execute_result"
    }
   ],
   "source": [
    "ct.fit(new_test_data)"
   ]
  },
  {
   "cell_type": "code",
   "execution_count": 263,
   "metadata": {},
   "outputs": [],
   "source": [
    "test_df = ct.transform(new_test_data)"
   ]
  },
  {
   "cell_type": "code",
   "execution_count": 264,
   "metadata": {},
   "outputs": [
    {
     "data": {
      "text/plain": [
       "(3281, 17)"
      ]
     },
     "execution_count": 264,
     "metadata": {},
     "output_type": "execute_result"
    }
   ],
   "source": [
    "test_df.shape"
   ]
  },
  {
   "attachments": {},
   "cell_type": "markdown",
   "metadata": {},
   "source": [
    "#### Make predictions on the best performing model on the real test data"
   ]
  },
  {
   "cell_type": "code",
   "execution_count": 267,
   "metadata": {},
   "outputs": [
    {
     "name": "stdout",
     "output_type": "stream",
     "text": [
      "103/103 [==============================] - 0s 2ms/step\n"
     ]
    },
    {
     "data": {
      "text/plain": [
       "(3281, 1)"
      ]
     },
     "execution_count": 267,
     "metadata": {},
     "output_type": "execute_result"
    }
   ],
   "source": [
    "best_model_preds = model_1.predict(test_df)\n",
    "best_model_preds.shape"
   ]
  },
  {
   "cell_type": "code",
   "execution_count": 268,
   "metadata": {},
   "outputs": [
    {
     "data": {
      "text/plain": [
       "<tf.Tensor: shape=(3281,), dtype=float32, numpy=array([1., 0., 1., ..., 0., 1., 1.], dtype=float32)>"
      ]
     },
     "execution_count": 268,
     "metadata": {},
     "output_type": "execute_result"
    }
   ],
   "source": [
    "model_best = tf.squeeze(tf.round(best_model_preds))\n",
    "model_best"
   ]
  },
  {
   "cell_type": "code",
   "execution_count": 269,
   "metadata": {},
   "outputs": [
    {
     "data": {
      "text/html": [
       "<div>\n",
       "<style scoped>\n",
       "    .dataframe tbody tr th:only-of-type {\n",
       "        vertical-align: middle;\n",
       "    }\n",
       "\n",
       "    .dataframe tbody tr th {\n",
       "        vertical-align: top;\n",
       "    }\n",
       "\n",
       "    .dataframe thead th {\n",
       "        text-align: right;\n",
       "    }\n",
       "</style>\n",
       "<table border=\"1\" class=\"dataframe\">\n",
       "  <thead>\n",
       "    <tr style=\"text-align: right;\">\n",
       "      <th></th>\n",
       "      <th>Name</th>\n",
       "      <th>Transported</th>\n",
       "    </tr>\n",
       "  </thead>\n",
       "  <tbody>\n",
       "    <tr>\n",
       "      <th>0</th>\n",
       "      <td>Nelly Carsoning</td>\n",
       "      <td>True</td>\n",
       "    </tr>\n",
       "    <tr>\n",
       "      <th>1</th>\n",
       "      <td>Lerome Peckers</td>\n",
       "      <td>False</td>\n",
       "    </tr>\n",
       "    <tr>\n",
       "      <th>2</th>\n",
       "      <td>Sabih Unhearfus</td>\n",
       "      <td>True</td>\n",
       "    </tr>\n",
       "    <tr>\n",
       "      <th>3</th>\n",
       "      <td>Meratz Caltilter</td>\n",
       "      <td>True</td>\n",
       "    </tr>\n",
       "    <tr>\n",
       "      <th>4</th>\n",
       "      <td>Brence Harperez</td>\n",
       "      <td>False</td>\n",
       "    </tr>\n",
       "    <tr>\n",
       "      <th>...</th>\n",
       "      <td>...</td>\n",
       "      <td>...</td>\n",
       "    </tr>\n",
       "    <tr>\n",
       "      <th>4269</th>\n",
       "      <td>Loisey Heney</td>\n",
       "      <td>True</td>\n",
       "    </tr>\n",
       "    <tr>\n",
       "      <th>4270</th>\n",
       "      <td>Toate Cure</td>\n",
       "      <td>True</td>\n",
       "    </tr>\n",
       "    <tr>\n",
       "      <th>4271</th>\n",
       "      <td>Danna Peter</td>\n",
       "      <td>False</td>\n",
       "    </tr>\n",
       "    <tr>\n",
       "      <th>4272</th>\n",
       "      <td>Jeron Peter</td>\n",
       "      <td>True</td>\n",
       "    </tr>\n",
       "    <tr>\n",
       "      <th>4276</th>\n",
       "      <td>Lilace Leonzaley</td>\n",
       "      <td>True</td>\n",
       "    </tr>\n",
       "  </tbody>\n",
       "</table>\n",
       "<p>3281 rows × 2 columns</p>\n",
       "</div>"
      ],
      "text/plain": [
       "                  Name Transported\n",
       "0      Nelly Carsoning        True\n",
       "1       Lerome Peckers       False\n",
       "2      Sabih Unhearfus        True\n",
       "3     Meratz Caltilter        True\n",
       "4      Brence Harperez       False\n",
       "...                ...         ...\n",
       "4269      Loisey Heney        True\n",
       "4270        Toate Cure        True\n",
       "4271       Danna Peter       False\n",
       "4272       Jeron Peter        True\n",
       "4276  Lilace Leonzaley        True\n",
       "\n",
       "[3281 rows x 2 columns]"
      ]
     },
     "execution_count": 269,
     "metadata": {},
     "output_type": "execute_result"
    }
   ],
   "source": [
    "prediction = pd.DataFrame({\"Name\": test_data.Name,\"Transported\": model_best})\n",
    "prediction[\"Transported\"] = prediction[\"Transported\"].replace({0: False, 1: True})\n",
    "prediction"
   ]
  },
  {
   "cell_type": "code",
   "execution_count": null,
   "metadata": {},
   "outputs": [],
   "source": []
  }
 ],
 "metadata": {
  "kernelspec": {
   "display_name": "new_env",
   "language": "python",
   "name": "python3"
  },
  "language_info": {
   "codemirror_mode": {
    "name": "ipython",
    "version": 3
   },
   "file_extension": ".py",
   "mimetype": "text/x-python",
   "name": "python",
   "nbconvert_exporter": "python",
   "pygments_lexer": "ipython3",
   "version": "3.10.6"
  },
  "orig_nbformat": 4,
  "vscode": {
   "interpreter": {
    "hash": "8cd9f6093900e77b556b013888d0fdcd31430122cec3c1df18c503b330a4dab0"
   }
  }
 },
 "nbformat": 4,
 "nbformat_minor": 2
}
